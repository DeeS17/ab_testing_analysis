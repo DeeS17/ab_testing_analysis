{
  "nbformat": 4,
  "nbformat_minor": 0,
  "metadata": {
    "colab": {
      "provenance": [],
      "toc_visible": true,
      "authorship_tag": "ABX9TyPvsGc5LBa294honRp46DJo",
      "include_colab_link": true
    },
    "kernelspec": {
      "name": "python3",
      "display_name": "Python 3"
    },
    "language_info": {
      "name": "python"
    }
  },
  "cells": [
    {
      "cell_type": "markdown",
      "metadata": {
        "id": "view-in-github",
        "colab_type": "text"
      },
      "source": [
        "<a href=\"https://colab.research.google.com/github/DeeS17/ab_testing_analysis/blob/main/sprint_7.ipynb\" target=\"_parent\"><img src=\"https://colab.research.google.com/assets/colab-badge.svg\" alt=\"Open In Colab\"/></a>"
      ]
    },
    {
      "cell_type": "markdown",
      "source": [
        "# Konten\n",
        "* Tahap 1: Pra-Pemrosesan Data\n",
        "* Tahap 2: Memuat Data\n",
        "  * Kesimpulan Memuat Data\n",
        "* Tahap 3: Analisa Data\n",
        "  * Analisa Proritas Hipotesis\n",
        "    * Analisa Berdasarkan Framework ICE\n",
        "    * Analisa Berdasarkan Framework RICE\n",
        "    * Kesimpulan Analisa Prioritas Hipotesis dengan Framework ICE dan RICE\n",
        "  * Analisa A/B Testing\n",
        "    * Perbedaan Pendapatan Kumulatif Berdasarkan Kelompok\n",
        "    * Pesanan Rata-Rata Kumulatif Berdasarkan Kelompok\n",
        "    * Perbedaan Relatif Pesanan Rata-Rata kumulatif Kelompok B Dibandingkan Dengan Kelompok A\n",
        "    * Tingkat Konversi Setiap Kelompok\n",
        "    * Diagram Tebar Jumlah Pesanan Per Pengguna\n",
        "    * Persentil 95 dan 99 dari Jumlah Pesanan per Pengguna\n",
        "    * Diagram Tebar Harga Pesanan\n",
        "    * Persentil 95 dan 99 dari Harga Pesanan\n",
        "    * Perbedaan Konversi Anter Kelompok\n",
        "    * Perbedaan Ukuran Pesanan Rata-Rata Antar Kelompok\n",
        "    * Perbedaan Konversi Anter kelompok Tanpa Nilai Anomali\n",
        "    * Perbedaan Ukuran Pesanan Rata-Rata Antar Kelompok Tanpa Nilai Anomali\n",
        "    * Keputusan Berdasarkan Hasil Pengujian"
      ],
      "metadata": {
        "id": "UZip216yhOKA"
      }
    },
    {
      "cell_type": "markdown",
      "source": [
        "# Pendahuluan"
      ],
      "metadata": {
        "id": "CvhHgJ-IimeM"
      }
    },
    {
      "cell_type": "markdown",
      "source": [
        "Sebuah toko daring besar sedang menyusun daftar hipotesis untuk membantu meningkatkan pendapatan. Proyek ini bertujuan untuk menemukan hipotesis mana yang harus diprioritaskan. Selanjutnya dari hipotesis tersebut perusahaan akan menjalankan A/B testing, dan menganalisis hasilnya."
      ],
      "metadata": {
        "id": "1PFBXTRNy5Qj"
      }
    },
    {
      "cell_type": "markdown",
      "source": [
        "# Tujuan"
      ],
      "metadata": {
        "id": "XLk76Ck_itsz"
      }
    },
    {
      "cell_type": "markdown",
      "source": [
        "Tujuan dari proyek ini adalah untuk mengetahui apakah hipotesis yang dipilih dapat meningkatkan pendapatan perusahaan "
      ],
      "metadata": {
        "id": "Hx6itUlwzhKE"
      }
    },
    {
      "cell_type": "markdown",
      "source": [
        "# Tahapan"
      ],
      "metadata": {
        "id": "hZnIFqC-ix2E"
      }
    },
    {
      "cell_type": "markdown",
      "source": [
        "* Pra-Pemrosesan Data\n",
        "* Memuat Data\n",
        "* Analisa Data"
      ],
      "metadata": {
        "id": "MvrkiOJrzylD"
      }
    },
    {
      "cell_type": "markdown",
      "source": [
        "# Pra-Pemrosesan Data"
      ],
      "metadata": {
        "id": "3uw9c8opi1ur"
      }
    },
    {
      "cell_type": "code",
      "source": [
        "import pandas as pd\n",
        "import matplotlib.pyplot as plt\n",
        "import seaborn as sns\n",
        "import numpy as np\n",
        "import scipy.stats as stats"
      ],
      "metadata": {
        "id": "qrIVpPvjiwgM"
      },
      "execution_count": null,
      "outputs": []
    },
    {
      "cell_type": "markdown",
      "source": [
        "# Memuat Data"
      ],
      "metadata": {
        "id": "KtxPsNeMjGan"
      }
    },
    {
      "cell_type": "code",
      "source": [
        "try:\n",
        "  hypotheses = pd.read_csv('/datasets/moved_hypotheses_us.csv', sep=';', dtype={'Hypothesis':'category'})\n",
        "  orders = pd.read_csv('/datasets/moved_orders_us.csv', parse_dates=['date'])\n",
        "  visitors = pd.read_csv('/datasets/moved_visits_us.csv', parse_dates=['date'])\n",
        "except:\n",
        "  hypotheses = pd.read_csv('/content/moved_hypotheses_us.csv', sep=';', dtype={'Hypothesis':'category'})\n",
        "  orders = pd.read_csv('/content/moved_orders_us.csv', parse_dates=['date'])\n",
        "  visitors = pd.read_csv('/content/moved_visits_us.csv', parse_dates=['date'])"
      ],
      "metadata": {
        "id": "1qwAvfmfjFAZ"
      },
      "execution_count": null,
      "outputs": []
    },
    {
      "cell_type": "code",
      "source": [
        "hypotheses.info()"
      ],
      "metadata": {
        "colab": {
          "base_uri": "https://localhost:8080/"
        },
        "id": "w_MAOaIvi-K_",
        "outputId": "9b3a9068-1f45-4a48-9aad-8417560bd6e1"
      },
      "execution_count": null,
      "outputs": [
        {
          "output_type": "stream",
          "name": "stdout",
          "text": [
            "<class 'pandas.core.frame.DataFrame'>\n",
            "RangeIndex: 9 entries, 0 to 8\n",
            "Data columns (total 5 columns):\n",
            " #   Column      Non-Null Count  Dtype   \n",
            "---  ------      --------------  -----   \n",
            " 0   Hypothesis  9 non-null      category\n",
            " 1   Reach       9 non-null      int64   \n",
            " 2   Impact      9 non-null      int64   \n",
            " 3   Confidence  9 non-null      int64   \n",
            " 4   Effort      9 non-null      int64   \n",
            "dtypes: category(1), int64(4)\n",
            "memory usage: 797.0 bytes\n"
          ]
        }
      ]
    },
    {
      "cell_type": "code",
      "source": [
        "hypotheses.head()"
      ],
      "metadata": {
        "colab": {
          "base_uri": "https://localhost:8080/",
          "height": 206
        },
        "id": "9cOoHCMujSl3",
        "outputId": "e8825682-ee33-4c30-dbea-2ecadccfa39b"
      },
      "execution_count": null,
      "outputs": [
        {
          "output_type": "execute_result",
          "data": {
            "text/plain": [
              "                                          Hypothesis  Reach  Impact  \\\n",
              "0  Add two new channels for attracting traffic. T...      3      10   \n",
              "1  Launch your own delivery service. This will sh...      2       5   \n",
              "2  Add product recommendation blocks to the store...      8       3   \n",
              "3  Change the category structure. This will incre...      8       3   \n",
              "4  Change the background color on the main page. ...      3       1   \n",
              "\n",
              "   Confidence  Effort  \n",
              "0           8       6  \n",
              "1           4      10  \n",
              "2           7       3  \n",
              "3           3       8  \n",
              "4           1       1  "
            ],
            "text/html": [
              "\n",
              "  <div id=\"df-f2631a8a-6cdc-424e-a71b-10e85f964fdf\">\n",
              "    <div class=\"colab-df-container\">\n",
              "      <div>\n",
              "<style scoped>\n",
              "    .dataframe tbody tr th:only-of-type {\n",
              "        vertical-align: middle;\n",
              "    }\n",
              "\n",
              "    .dataframe tbody tr th {\n",
              "        vertical-align: top;\n",
              "    }\n",
              "\n",
              "    .dataframe thead th {\n",
              "        text-align: right;\n",
              "    }\n",
              "</style>\n",
              "<table border=\"1\" class=\"dataframe\">\n",
              "  <thead>\n",
              "    <tr style=\"text-align: right;\">\n",
              "      <th></th>\n",
              "      <th>Hypothesis</th>\n",
              "      <th>Reach</th>\n",
              "      <th>Impact</th>\n",
              "      <th>Confidence</th>\n",
              "      <th>Effort</th>\n",
              "    </tr>\n",
              "  </thead>\n",
              "  <tbody>\n",
              "    <tr>\n",
              "      <th>0</th>\n",
              "      <td>Add two new channels for attracting traffic. T...</td>\n",
              "      <td>3</td>\n",
              "      <td>10</td>\n",
              "      <td>8</td>\n",
              "      <td>6</td>\n",
              "    </tr>\n",
              "    <tr>\n",
              "      <th>1</th>\n",
              "      <td>Launch your own delivery service. This will sh...</td>\n",
              "      <td>2</td>\n",
              "      <td>5</td>\n",
              "      <td>4</td>\n",
              "      <td>10</td>\n",
              "    </tr>\n",
              "    <tr>\n",
              "      <th>2</th>\n",
              "      <td>Add product recommendation blocks to the store...</td>\n",
              "      <td>8</td>\n",
              "      <td>3</td>\n",
              "      <td>7</td>\n",
              "      <td>3</td>\n",
              "    </tr>\n",
              "    <tr>\n",
              "      <th>3</th>\n",
              "      <td>Change the category structure. This will incre...</td>\n",
              "      <td>8</td>\n",
              "      <td>3</td>\n",
              "      <td>3</td>\n",
              "      <td>8</td>\n",
              "    </tr>\n",
              "    <tr>\n",
              "      <th>4</th>\n",
              "      <td>Change the background color on the main page. ...</td>\n",
              "      <td>3</td>\n",
              "      <td>1</td>\n",
              "      <td>1</td>\n",
              "      <td>1</td>\n",
              "    </tr>\n",
              "  </tbody>\n",
              "</table>\n",
              "</div>\n",
              "      <button class=\"colab-df-convert\" onclick=\"convertToInteractive('df-f2631a8a-6cdc-424e-a71b-10e85f964fdf')\"\n",
              "              title=\"Convert this dataframe to an interactive table.\"\n",
              "              style=\"display:none;\">\n",
              "        \n",
              "  <svg xmlns=\"http://www.w3.org/2000/svg\" height=\"24px\"viewBox=\"0 0 24 24\"\n",
              "       width=\"24px\">\n",
              "    <path d=\"M0 0h24v24H0V0z\" fill=\"none\"/>\n",
              "    <path d=\"M18.56 5.44l.94 2.06.94-2.06 2.06-.94-2.06-.94-.94-2.06-.94 2.06-2.06.94zm-11 1L8.5 8.5l.94-2.06 2.06-.94-2.06-.94L8.5 2.5l-.94 2.06-2.06.94zm10 10l.94 2.06.94-2.06 2.06-.94-2.06-.94-.94-2.06-.94 2.06-2.06.94z\"/><path d=\"M17.41 7.96l-1.37-1.37c-.4-.4-.92-.59-1.43-.59-.52 0-1.04.2-1.43.59L10.3 9.45l-7.72 7.72c-.78.78-.78 2.05 0 2.83L4 21.41c.39.39.9.59 1.41.59.51 0 1.02-.2 1.41-.59l7.78-7.78 2.81-2.81c.8-.78.8-2.07 0-2.86zM5.41 20L4 18.59l7.72-7.72 1.47 1.35L5.41 20z\"/>\n",
              "  </svg>\n",
              "      </button>\n",
              "      \n",
              "  <style>\n",
              "    .colab-df-container {\n",
              "      display:flex;\n",
              "      flex-wrap:wrap;\n",
              "      gap: 12px;\n",
              "    }\n",
              "\n",
              "    .colab-df-convert {\n",
              "      background-color: #E8F0FE;\n",
              "      border: none;\n",
              "      border-radius: 50%;\n",
              "      cursor: pointer;\n",
              "      display: none;\n",
              "      fill: #1967D2;\n",
              "      height: 32px;\n",
              "      padding: 0 0 0 0;\n",
              "      width: 32px;\n",
              "    }\n",
              "\n",
              "    .colab-df-convert:hover {\n",
              "      background-color: #E2EBFA;\n",
              "      box-shadow: 0px 1px 2px rgba(60, 64, 67, 0.3), 0px 1px 3px 1px rgba(60, 64, 67, 0.15);\n",
              "      fill: #174EA6;\n",
              "    }\n",
              "\n",
              "    [theme=dark] .colab-df-convert {\n",
              "      background-color: #3B4455;\n",
              "      fill: #D2E3FC;\n",
              "    }\n",
              "\n",
              "    [theme=dark] .colab-df-convert:hover {\n",
              "      background-color: #434B5C;\n",
              "      box-shadow: 0px 1px 3px 1px rgba(0, 0, 0, 0.15);\n",
              "      filter: drop-shadow(0px 1px 2px rgba(0, 0, 0, 0.3));\n",
              "      fill: #FFFFFF;\n",
              "    }\n",
              "  </style>\n",
              "\n",
              "      <script>\n",
              "        const buttonEl =\n",
              "          document.querySelector('#df-f2631a8a-6cdc-424e-a71b-10e85f964fdf button.colab-df-convert');\n",
              "        buttonEl.style.display =\n",
              "          google.colab.kernel.accessAllowed ? 'block' : 'none';\n",
              "\n",
              "        async function convertToInteractive(key) {\n",
              "          const element = document.querySelector('#df-f2631a8a-6cdc-424e-a71b-10e85f964fdf');\n",
              "          const dataTable =\n",
              "            await google.colab.kernel.invokeFunction('convertToInteractive',\n",
              "                                                     [key], {});\n",
              "          if (!dataTable) return;\n",
              "\n",
              "          const docLinkHtml = 'Like what you see? Visit the ' +\n",
              "            '<a target=\"_blank\" href=https://colab.research.google.com/notebooks/data_table.ipynb>data table notebook</a>'\n",
              "            + ' to learn more about interactive tables.';\n",
              "          element.innerHTML = '';\n",
              "          dataTable['output_type'] = 'display_data';\n",
              "          await google.colab.output.renderOutput(dataTable, element);\n",
              "          const docLink = document.createElement('div');\n",
              "          docLink.innerHTML = docLinkHtml;\n",
              "          element.appendChild(docLink);\n",
              "        }\n",
              "      </script>\n",
              "    </div>\n",
              "  </div>\n",
              "  "
            ]
          },
          "metadata": {},
          "execution_count": 4
        }
      ]
    },
    {
      "cell_type": "markdown",
      "source": [
        "`Dataframe hypotheses` telah berhasil dimuat. ada 9 baris data, seluruh datanya lengkap dan tipe datanya telah disesuaikan. "
      ],
      "metadata": {
        "id": "8oKLtlu8TF8G"
      }
    },
    {
      "cell_type": "code",
      "source": [
        "orders.info()"
      ],
      "metadata": {
        "colab": {
          "base_uri": "https://localhost:8080/"
        },
        "id": "BVqo0EzSjDfz",
        "outputId": "7d5a63a9-76b7-4cfa-f450-b8b5d7a2774b"
      },
      "execution_count": null,
      "outputs": [
        {
          "output_type": "stream",
          "name": "stdout",
          "text": [
            "<class 'pandas.core.frame.DataFrame'>\n",
            "RangeIndex: 1197 entries, 0 to 1196\n",
            "Data columns (total 5 columns):\n",
            " #   Column         Non-Null Count  Dtype         \n",
            "---  ------         --------------  -----         \n",
            " 0   transactionId  1197 non-null   int64         \n",
            " 1   visitorId      1197 non-null   int64         \n",
            " 2   date           1197 non-null   datetime64[ns]\n",
            " 3   revenue        1197 non-null   float64       \n",
            " 4   group          1197 non-null   object        \n",
            "dtypes: datetime64[ns](1), float64(1), int64(2), object(1)\n",
            "memory usage: 46.9+ KB\n"
          ]
        }
      ]
    },
    {
      "cell_type": "code",
      "source": [
        "orders.head()"
      ],
      "metadata": {
        "colab": {
          "base_uri": "https://localhost:8080/",
          "height": 206
        },
        "id": "HYarftWnlUK5",
        "outputId": "c40345d0-a564-4c58-fa26-50aff25b186a"
      },
      "execution_count": null,
      "outputs": [
        {
          "output_type": "execute_result",
          "data": {
            "text/plain": [
              "   transactionId   visitorId       date  revenue group\n",
              "0     3667963787  3312258926 2019-08-15     30.4     B\n",
              "1     2804400009  3642806036 2019-08-15     15.2     B\n",
              "2     2961555356  4069496402 2019-08-15     10.2     A\n",
              "3     3797467345  1196621759 2019-08-15    155.1     B\n",
              "4     2282983706  2322279887 2019-08-15     40.5     B"
            ],
            "text/html": [
              "\n",
              "  <div id=\"df-79252b4f-c03e-463b-8081-acc5dab1800b\">\n",
              "    <div class=\"colab-df-container\">\n",
              "      <div>\n",
              "<style scoped>\n",
              "    .dataframe tbody tr th:only-of-type {\n",
              "        vertical-align: middle;\n",
              "    }\n",
              "\n",
              "    .dataframe tbody tr th {\n",
              "        vertical-align: top;\n",
              "    }\n",
              "\n",
              "    .dataframe thead th {\n",
              "        text-align: right;\n",
              "    }\n",
              "</style>\n",
              "<table border=\"1\" class=\"dataframe\">\n",
              "  <thead>\n",
              "    <tr style=\"text-align: right;\">\n",
              "      <th></th>\n",
              "      <th>transactionId</th>\n",
              "      <th>visitorId</th>\n",
              "      <th>date</th>\n",
              "      <th>revenue</th>\n",
              "      <th>group</th>\n",
              "    </tr>\n",
              "  </thead>\n",
              "  <tbody>\n",
              "    <tr>\n",
              "      <th>0</th>\n",
              "      <td>3667963787</td>\n",
              "      <td>3312258926</td>\n",
              "      <td>2019-08-15</td>\n",
              "      <td>30.4</td>\n",
              "      <td>B</td>\n",
              "    </tr>\n",
              "    <tr>\n",
              "      <th>1</th>\n",
              "      <td>2804400009</td>\n",
              "      <td>3642806036</td>\n",
              "      <td>2019-08-15</td>\n",
              "      <td>15.2</td>\n",
              "      <td>B</td>\n",
              "    </tr>\n",
              "    <tr>\n",
              "      <th>2</th>\n",
              "      <td>2961555356</td>\n",
              "      <td>4069496402</td>\n",
              "      <td>2019-08-15</td>\n",
              "      <td>10.2</td>\n",
              "      <td>A</td>\n",
              "    </tr>\n",
              "    <tr>\n",
              "      <th>3</th>\n",
              "      <td>3797467345</td>\n",
              "      <td>1196621759</td>\n",
              "      <td>2019-08-15</td>\n",
              "      <td>155.1</td>\n",
              "      <td>B</td>\n",
              "    </tr>\n",
              "    <tr>\n",
              "      <th>4</th>\n",
              "      <td>2282983706</td>\n",
              "      <td>2322279887</td>\n",
              "      <td>2019-08-15</td>\n",
              "      <td>40.5</td>\n",
              "      <td>B</td>\n",
              "    </tr>\n",
              "  </tbody>\n",
              "</table>\n",
              "</div>\n",
              "      <button class=\"colab-df-convert\" onclick=\"convertToInteractive('df-79252b4f-c03e-463b-8081-acc5dab1800b')\"\n",
              "              title=\"Convert this dataframe to an interactive table.\"\n",
              "              style=\"display:none;\">\n",
              "        \n",
              "  <svg xmlns=\"http://www.w3.org/2000/svg\" height=\"24px\"viewBox=\"0 0 24 24\"\n",
              "       width=\"24px\">\n",
              "    <path d=\"M0 0h24v24H0V0z\" fill=\"none\"/>\n",
              "    <path d=\"M18.56 5.44l.94 2.06.94-2.06 2.06-.94-2.06-.94-.94-2.06-.94 2.06-2.06.94zm-11 1L8.5 8.5l.94-2.06 2.06-.94-2.06-.94L8.5 2.5l-.94 2.06-2.06.94zm10 10l.94 2.06.94-2.06 2.06-.94-2.06-.94-.94-2.06-.94 2.06-2.06.94z\"/><path d=\"M17.41 7.96l-1.37-1.37c-.4-.4-.92-.59-1.43-.59-.52 0-1.04.2-1.43.59L10.3 9.45l-7.72 7.72c-.78.78-.78 2.05 0 2.83L4 21.41c.39.39.9.59 1.41.59.51 0 1.02-.2 1.41-.59l7.78-7.78 2.81-2.81c.8-.78.8-2.07 0-2.86zM5.41 20L4 18.59l7.72-7.72 1.47 1.35L5.41 20z\"/>\n",
              "  </svg>\n",
              "      </button>\n",
              "      \n",
              "  <style>\n",
              "    .colab-df-container {\n",
              "      display:flex;\n",
              "      flex-wrap:wrap;\n",
              "      gap: 12px;\n",
              "    }\n",
              "\n",
              "    .colab-df-convert {\n",
              "      background-color: #E8F0FE;\n",
              "      border: none;\n",
              "      border-radius: 50%;\n",
              "      cursor: pointer;\n",
              "      display: none;\n",
              "      fill: #1967D2;\n",
              "      height: 32px;\n",
              "      padding: 0 0 0 0;\n",
              "      width: 32px;\n",
              "    }\n",
              "\n",
              "    .colab-df-convert:hover {\n",
              "      background-color: #E2EBFA;\n",
              "      box-shadow: 0px 1px 2px rgba(60, 64, 67, 0.3), 0px 1px 3px 1px rgba(60, 64, 67, 0.15);\n",
              "      fill: #174EA6;\n",
              "    }\n",
              "\n",
              "    [theme=dark] .colab-df-convert {\n",
              "      background-color: #3B4455;\n",
              "      fill: #D2E3FC;\n",
              "    }\n",
              "\n",
              "    [theme=dark] .colab-df-convert:hover {\n",
              "      background-color: #434B5C;\n",
              "      box-shadow: 0px 1px 3px 1px rgba(0, 0, 0, 0.15);\n",
              "      filter: drop-shadow(0px 1px 2px rgba(0, 0, 0, 0.3));\n",
              "      fill: #FFFFFF;\n",
              "    }\n",
              "  </style>\n",
              "\n",
              "      <script>\n",
              "        const buttonEl =\n",
              "          document.querySelector('#df-79252b4f-c03e-463b-8081-acc5dab1800b button.colab-df-convert');\n",
              "        buttonEl.style.display =\n",
              "          google.colab.kernel.accessAllowed ? 'block' : 'none';\n",
              "\n",
              "        async function convertToInteractive(key) {\n",
              "          const element = document.querySelector('#df-79252b4f-c03e-463b-8081-acc5dab1800b');\n",
              "          const dataTable =\n",
              "            await google.colab.kernel.invokeFunction('convertToInteractive',\n",
              "                                                     [key], {});\n",
              "          if (!dataTable) return;\n",
              "\n",
              "          const docLinkHtml = 'Like what you see? Visit the ' +\n",
              "            '<a target=\"_blank\" href=https://colab.research.google.com/notebooks/data_table.ipynb>data table notebook</a>'\n",
              "            + ' to learn more about interactive tables.';\n",
              "          element.innerHTML = '';\n",
              "          dataTable['output_type'] = 'display_data';\n",
              "          await google.colab.output.renderOutput(dataTable, element);\n",
              "          const docLink = document.createElement('div');\n",
              "          docLink.innerHTML = docLinkHtml;\n",
              "          element.appendChild(docLink);\n",
              "        }\n",
              "      </script>\n",
              "    </div>\n",
              "  </div>\n",
              "  "
            ]
          },
          "metadata": {},
          "execution_count": 6
        }
      ]
    },
    {
      "cell_type": "markdown",
      "source": [
        "`Dataframe orders` telah berhasil dimuat. Ada `1,197` baris data, seluruh datanya lengkap dan tipe datanya telah disesuaikan. "
      ],
      "metadata": {
        "id": "WUzjySU0Thed"
      }
    },
    {
      "cell_type": "code",
      "source": [
        "visitors.info()"
      ],
      "metadata": {
        "colab": {
          "base_uri": "https://localhost:8080/"
        },
        "id": "cRRKbFdVjFk9",
        "outputId": "4a00dce2-fe8d-4f64-996b-d98f2f24129c"
      },
      "execution_count": null,
      "outputs": [
        {
          "output_type": "stream",
          "name": "stdout",
          "text": [
            "<class 'pandas.core.frame.DataFrame'>\n",
            "RangeIndex: 62 entries, 0 to 61\n",
            "Data columns (total 3 columns):\n",
            " #   Column  Non-Null Count  Dtype         \n",
            "---  ------  --------------  -----         \n",
            " 0   date    62 non-null     datetime64[ns]\n",
            " 1   group   62 non-null     object        \n",
            " 2   visits  62 non-null     int64         \n",
            "dtypes: datetime64[ns](1), int64(1), object(1)\n",
            "memory usage: 1.6+ KB\n"
          ]
        }
      ]
    },
    {
      "cell_type": "code",
      "source": [
        "visitors.head()"
      ],
      "metadata": {
        "colab": {
          "base_uri": "https://localhost:8080/",
          "height": 206
        },
        "id": "i7BYmTnSlXwZ",
        "outputId": "cd9b5003-b79f-498d-c140-2497ba3aba09"
      },
      "execution_count": null,
      "outputs": [
        {
          "output_type": "execute_result",
          "data": {
            "text/plain": [
              "        date group  visits\n",
              "0 2019-08-01     A     719\n",
              "1 2019-08-02     A     619\n",
              "2 2019-08-03     A     507\n",
              "3 2019-08-04     A     717\n",
              "4 2019-08-05     A     756"
            ],
            "text/html": [
              "\n",
              "  <div id=\"df-a9c66a14-89d7-48d5-99e4-1a93dfbfd05a\">\n",
              "    <div class=\"colab-df-container\">\n",
              "      <div>\n",
              "<style scoped>\n",
              "    .dataframe tbody tr th:only-of-type {\n",
              "        vertical-align: middle;\n",
              "    }\n",
              "\n",
              "    .dataframe tbody tr th {\n",
              "        vertical-align: top;\n",
              "    }\n",
              "\n",
              "    .dataframe thead th {\n",
              "        text-align: right;\n",
              "    }\n",
              "</style>\n",
              "<table border=\"1\" class=\"dataframe\">\n",
              "  <thead>\n",
              "    <tr style=\"text-align: right;\">\n",
              "      <th></th>\n",
              "      <th>date</th>\n",
              "      <th>group</th>\n",
              "      <th>visits</th>\n",
              "    </tr>\n",
              "  </thead>\n",
              "  <tbody>\n",
              "    <tr>\n",
              "      <th>0</th>\n",
              "      <td>2019-08-01</td>\n",
              "      <td>A</td>\n",
              "      <td>719</td>\n",
              "    </tr>\n",
              "    <tr>\n",
              "      <th>1</th>\n",
              "      <td>2019-08-02</td>\n",
              "      <td>A</td>\n",
              "      <td>619</td>\n",
              "    </tr>\n",
              "    <tr>\n",
              "      <th>2</th>\n",
              "      <td>2019-08-03</td>\n",
              "      <td>A</td>\n",
              "      <td>507</td>\n",
              "    </tr>\n",
              "    <tr>\n",
              "      <th>3</th>\n",
              "      <td>2019-08-04</td>\n",
              "      <td>A</td>\n",
              "      <td>717</td>\n",
              "    </tr>\n",
              "    <tr>\n",
              "      <th>4</th>\n",
              "      <td>2019-08-05</td>\n",
              "      <td>A</td>\n",
              "      <td>756</td>\n",
              "    </tr>\n",
              "  </tbody>\n",
              "</table>\n",
              "</div>\n",
              "      <button class=\"colab-df-convert\" onclick=\"convertToInteractive('df-a9c66a14-89d7-48d5-99e4-1a93dfbfd05a')\"\n",
              "              title=\"Convert this dataframe to an interactive table.\"\n",
              "              style=\"display:none;\">\n",
              "        \n",
              "  <svg xmlns=\"http://www.w3.org/2000/svg\" height=\"24px\"viewBox=\"0 0 24 24\"\n",
              "       width=\"24px\">\n",
              "    <path d=\"M0 0h24v24H0V0z\" fill=\"none\"/>\n",
              "    <path d=\"M18.56 5.44l.94 2.06.94-2.06 2.06-.94-2.06-.94-.94-2.06-.94 2.06-2.06.94zm-11 1L8.5 8.5l.94-2.06 2.06-.94-2.06-.94L8.5 2.5l-.94 2.06-2.06.94zm10 10l.94 2.06.94-2.06 2.06-.94-2.06-.94-.94-2.06-.94 2.06-2.06.94z\"/><path d=\"M17.41 7.96l-1.37-1.37c-.4-.4-.92-.59-1.43-.59-.52 0-1.04.2-1.43.59L10.3 9.45l-7.72 7.72c-.78.78-.78 2.05 0 2.83L4 21.41c.39.39.9.59 1.41.59.51 0 1.02-.2 1.41-.59l7.78-7.78 2.81-2.81c.8-.78.8-2.07 0-2.86zM5.41 20L4 18.59l7.72-7.72 1.47 1.35L5.41 20z\"/>\n",
              "  </svg>\n",
              "      </button>\n",
              "      \n",
              "  <style>\n",
              "    .colab-df-container {\n",
              "      display:flex;\n",
              "      flex-wrap:wrap;\n",
              "      gap: 12px;\n",
              "    }\n",
              "\n",
              "    .colab-df-convert {\n",
              "      background-color: #E8F0FE;\n",
              "      border: none;\n",
              "      border-radius: 50%;\n",
              "      cursor: pointer;\n",
              "      display: none;\n",
              "      fill: #1967D2;\n",
              "      height: 32px;\n",
              "      padding: 0 0 0 0;\n",
              "      width: 32px;\n",
              "    }\n",
              "\n",
              "    .colab-df-convert:hover {\n",
              "      background-color: #E2EBFA;\n",
              "      box-shadow: 0px 1px 2px rgba(60, 64, 67, 0.3), 0px 1px 3px 1px rgba(60, 64, 67, 0.15);\n",
              "      fill: #174EA6;\n",
              "    }\n",
              "\n",
              "    [theme=dark] .colab-df-convert {\n",
              "      background-color: #3B4455;\n",
              "      fill: #D2E3FC;\n",
              "    }\n",
              "\n",
              "    [theme=dark] .colab-df-convert:hover {\n",
              "      background-color: #434B5C;\n",
              "      box-shadow: 0px 1px 3px 1px rgba(0, 0, 0, 0.15);\n",
              "      filter: drop-shadow(0px 1px 2px rgba(0, 0, 0, 0.3));\n",
              "      fill: #FFFFFF;\n",
              "    }\n",
              "  </style>\n",
              "\n",
              "      <script>\n",
              "        const buttonEl =\n",
              "          document.querySelector('#df-a9c66a14-89d7-48d5-99e4-1a93dfbfd05a button.colab-df-convert');\n",
              "        buttonEl.style.display =\n",
              "          google.colab.kernel.accessAllowed ? 'block' : 'none';\n",
              "\n",
              "        async function convertToInteractive(key) {\n",
              "          const element = document.querySelector('#df-a9c66a14-89d7-48d5-99e4-1a93dfbfd05a');\n",
              "          const dataTable =\n",
              "            await google.colab.kernel.invokeFunction('convertToInteractive',\n",
              "                                                     [key], {});\n",
              "          if (!dataTable) return;\n",
              "\n",
              "          const docLinkHtml = 'Like what you see? Visit the ' +\n",
              "            '<a target=\"_blank\" href=https://colab.research.google.com/notebooks/data_table.ipynb>data table notebook</a>'\n",
              "            + ' to learn more about interactive tables.';\n",
              "          element.innerHTML = '';\n",
              "          dataTable['output_type'] = 'display_data';\n",
              "          await google.colab.output.renderOutput(dataTable, element);\n",
              "          const docLink = document.createElement('div');\n",
              "          docLink.innerHTML = docLinkHtml;\n",
              "          element.appendChild(docLink);\n",
              "        }\n",
              "      </script>\n",
              "    </div>\n",
              "  </div>\n",
              "  "
            ]
          },
          "metadata": {},
          "execution_count": 8
        }
      ]
    },
    {
      "cell_type": "markdown",
      "source": [
        "`Dataframe visitors` telah berhasil dimuat. Ada `62` baris data, seluruh datanya lengkap dan tipe datanya telah disesuaikan. "
      ],
      "metadata": {
        "id": "U-drVmITUKOs"
      }
    },
    {
      "cell_type": "markdown",
      "source": [
        "## Kesimpulan Memuat Data"
      ],
      "metadata": {
        "id": "4a-nYN3tUth7"
      }
    },
    {
      "cell_type": "markdown",
      "source": [
        "Berdasarkan dari ketiga `dataframe` yang telah dimuat, seluruh `dataframe` tipe datanya telah disesuaikan dan datanya lengkap sehingga proses analisa data bisa dimulai.\n",
        "\n",
        "`Dataframe` pertama yang dinamakan `hypotheses`, merupakan `dataframe` yang berisi sekumpulan `hypothesis` yang bertujuan meningkatkan pendapatan toko daring. Dari kumpulan `hypothesis` tersebut, saya akan menganalisa `hypothesis` manakah yang harus diprioritaskan. Analisa prioritas `hypothesis` akan dilakukan dengan `framework` `ICE` dan `RICE`."
      ],
      "metadata": {
        "id": "TGOkx-a8Uxlo"
      }
    },
    {
      "cell_type": "markdown",
      "source": [
        "# Analisa Data"
      ],
      "metadata": {
        "id": "6l60m9wBTOPK"
      }
    },
    {
      "cell_type": "markdown",
      "source": [
        "## Analisa Prioritas Hipotesis"
      ],
      "metadata": {
        "id": "lkfWZh4sTYm6"
      }
    },
    {
      "cell_type": "code",
      "source": [
        "hypotheses['ICE'] = (hypotheses['Impact'] * hypotheses['Confidence']) / hypotheses['Effort']\n",
        "hypotheses['RICE'] = (hypotheses['Reach'] * hypotheses['Impact'] * hypotheses['Confidence']) / hypotheses['Effort']\n",
        "hypotheses"
      ],
      "metadata": {
        "colab": {
          "base_uri": "https://localhost:8080/",
          "height": 331
        },
        "id": "WF6uroO6XMeq",
        "outputId": "eecc271a-0d4d-4b34-f1ee-e2cc050bb2e7"
      },
      "execution_count": null,
      "outputs": [
        {
          "output_type": "execute_result",
          "data": {
            "text/plain": [
              "                                          Hypothesis  Reach  Impact  \\\n",
              "0  Add two new channels for attracting traffic. T...      3      10   \n",
              "1  Launch your own delivery service. This will sh...      2       5   \n",
              "2  Add product recommendation blocks to the store...      8       3   \n",
              "3  Change the category structure. This will incre...      8       3   \n",
              "4  Change the background color on the main page. ...      3       1   \n",
              "5  Add a customer review page. This will increase...      3       2   \n",
              "6  Show banners with current offers and sales on ...      5       3   \n",
              "7  Add a subscription form to all the main pages....     10       7   \n",
              "8  Launch a promotion that gives users discounts ...      1       9   \n",
              "\n",
              "   Confidence  Effort        ICE   RICE  \n",
              "0           8       6  13.333333   40.0  \n",
              "1           4      10   2.000000    4.0  \n",
              "2           7       3   7.000000   56.0  \n",
              "3           3       8   1.125000    9.0  \n",
              "4           1       1   1.000000    3.0  \n",
              "5           2       3   1.333333    4.0  \n",
              "6           8       3   8.000000   40.0  \n",
              "7           8       5  11.200000  112.0  \n",
              "8           9       5  16.200000   16.2  "
            ],
            "text/html": [
              "\n",
              "  <div id=\"df-1f631a06-bdd9-4ae4-b0d1-fbbf163259d8\">\n",
              "    <div class=\"colab-df-container\">\n",
              "      <div>\n",
              "<style scoped>\n",
              "    .dataframe tbody tr th:only-of-type {\n",
              "        vertical-align: middle;\n",
              "    }\n",
              "\n",
              "    .dataframe tbody tr th {\n",
              "        vertical-align: top;\n",
              "    }\n",
              "\n",
              "    .dataframe thead th {\n",
              "        text-align: right;\n",
              "    }\n",
              "</style>\n",
              "<table border=\"1\" class=\"dataframe\">\n",
              "  <thead>\n",
              "    <tr style=\"text-align: right;\">\n",
              "      <th></th>\n",
              "      <th>Hypothesis</th>\n",
              "      <th>Reach</th>\n",
              "      <th>Impact</th>\n",
              "      <th>Confidence</th>\n",
              "      <th>Effort</th>\n",
              "      <th>ICE</th>\n",
              "      <th>RICE</th>\n",
              "    </tr>\n",
              "  </thead>\n",
              "  <tbody>\n",
              "    <tr>\n",
              "      <th>0</th>\n",
              "      <td>Add two new channels for attracting traffic. T...</td>\n",
              "      <td>3</td>\n",
              "      <td>10</td>\n",
              "      <td>8</td>\n",
              "      <td>6</td>\n",
              "      <td>13.333333</td>\n",
              "      <td>40.0</td>\n",
              "    </tr>\n",
              "    <tr>\n",
              "      <th>1</th>\n",
              "      <td>Launch your own delivery service. This will sh...</td>\n",
              "      <td>2</td>\n",
              "      <td>5</td>\n",
              "      <td>4</td>\n",
              "      <td>10</td>\n",
              "      <td>2.000000</td>\n",
              "      <td>4.0</td>\n",
              "    </tr>\n",
              "    <tr>\n",
              "      <th>2</th>\n",
              "      <td>Add product recommendation blocks to the store...</td>\n",
              "      <td>8</td>\n",
              "      <td>3</td>\n",
              "      <td>7</td>\n",
              "      <td>3</td>\n",
              "      <td>7.000000</td>\n",
              "      <td>56.0</td>\n",
              "    </tr>\n",
              "    <tr>\n",
              "      <th>3</th>\n",
              "      <td>Change the category structure. This will incre...</td>\n",
              "      <td>8</td>\n",
              "      <td>3</td>\n",
              "      <td>3</td>\n",
              "      <td>8</td>\n",
              "      <td>1.125000</td>\n",
              "      <td>9.0</td>\n",
              "    </tr>\n",
              "    <tr>\n",
              "      <th>4</th>\n",
              "      <td>Change the background color on the main page. ...</td>\n",
              "      <td>3</td>\n",
              "      <td>1</td>\n",
              "      <td>1</td>\n",
              "      <td>1</td>\n",
              "      <td>1.000000</td>\n",
              "      <td>3.0</td>\n",
              "    </tr>\n",
              "    <tr>\n",
              "      <th>5</th>\n",
              "      <td>Add a customer review page. This will increase...</td>\n",
              "      <td>3</td>\n",
              "      <td>2</td>\n",
              "      <td>2</td>\n",
              "      <td>3</td>\n",
              "      <td>1.333333</td>\n",
              "      <td>4.0</td>\n",
              "    </tr>\n",
              "    <tr>\n",
              "      <th>6</th>\n",
              "      <td>Show banners with current offers and sales on ...</td>\n",
              "      <td>5</td>\n",
              "      <td>3</td>\n",
              "      <td>8</td>\n",
              "      <td>3</td>\n",
              "      <td>8.000000</td>\n",
              "      <td>40.0</td>\n",
              "    </tr>\n",
              "    <tr>\n",
              "      <th>7</th>\n",
              "      <td>Add a subscription form to all the main pages....</td>\n",
              "      <td>10</td>\n",
              "      <td>7</td>\n",
              "      <td>8</td>\n",
              "      <td>5</td>\n",
              "      <td>11.200000</td>\n",
              "      <td>112.0</td>\n",
              "    </tr>\n",
              "    <tr>\n",
              "      <th>8</th>\n",
              "      <td>Launch a promotion that gives users discounts ...</td>\n",
              "      <td>1</td>\n",
              "      <td>9</td>\n",
              "      <td>9</td>\n",
              "      <td>5</td>\n",
              "      <td>16.200000</td>\n",
              "      <td>16.2</td>\n",
              "    </tr>\n",
              "  </tbody>\n",
              "</table>\n",
              "</div>\n",
              "      <button class=\"colab-df-convert\" onclick=\"convertToInteractive('df-1f631a06-bdd9-4ae4-b0d1-fbbf163259d8')\"\n",
              "              title=\"Convert this dataframe to an interactive table.\"\n",
              "              style=\"display:none;\">\n",
              "        \n",
              "  <svg xmlns=\"http://www.w3.org/2000/svg\" height=\"24px\"viewBox=\"0 0 24 24\"\n",
              "       width=\"24px\">\n",
              "    <path d=\"M0 0h24v24H0V0z\" fill=\"none\"/>\n",
              "    <path d=\"M18.56 5.44l.94 2.06.94-2.06 2.06-.94-2.06-.94-.94-2.06-.94 2.06-2.06.94zm-11 1L8.5 8.5l.94-2.06 2.06-.94-2.06-.94L8.5 2.5l-.94 2.06-2.06.94zm10 10l.94 2.06.94-2.06 2.06-.94-2.06-.94-.94-2.06-.94 2.06-2.06.94z\"/><path d=\"M17.41 7.96l-1.37-1.37c-.4-.4-.92-.59-1.43-.59-.52 0-1.04.2-1.43.59L10.3 9.45l-7.72 7.72c-.78.78-.78 2.05 0 2.83L4 21.41c.39.39.9.59 1.41.59.51 0 1.02-.2 1.41-.59l7.78-7.78 2.81-2.81c.8-.78.8-2.07 0-2.86zM5.41 20L4 18.59l7.72-7.72 1.47 1.35L5.41 20z\"/>\n",
              "  </svg>\n",
              "      </button>\n",
              "      \n",
              "  <style>\n",
              "    .colab-df-container {\n",
              "      display:flex;\n",
              "      flex-wrap:wrap;\n",
              "      gap: 12px;\n",
              "    }\n",
              "\n",
              "    .colab-df-convert {\n",
              "      background-color: #E8F0FE;\n",
              "      border: none;\n",
              "      border-radius: 50%;\n",
              "      cursor: pointer;\n",
              "      display: none;\n",
              "      fill: #1967D2;\n",
              "      height: 32px;\n",
              "      padding: 0 0 0 0;\n",
              "      width: 32px;\n",
              "    }\n",
              "\n",
              "    .colab-df-convert:hover {\n",
              "      background-color: #E2EBFA;\n",
              "      box-shadow: 0px 1px 2px rgba(60, 64, 67, 0.3), 0px 1px 3px 1px rgba(60, 64, 67, 0.15);\n",
              "      fill: #174EA6;\n",
              "    }\n",
              "\n",
              "    [theme=dark] .colab-df-convert {\n",
              "      background-color: #3B4455;\n",
              "      fill: #D2E3FC;\n",
              "    }\n",
              "\n",
              "    [theme=dark] .colab-df-convert:hover {\n",
              "      background-color: #434B5C;\n",
              "      box-shadow: 0px 1px 3px 1px rgba(0, 0, 0, 0.15);\n",
              "      filter: drop-shadow(0px 1px 2px rgba(0, 0, 0, 0.3));\n",
              "      fill: #FFFFFF;\n",
              "    }\n",
              "  </style>\n",
              "\n",
              "      <script>\n",
              "        const buttonEl =\n",
              "          document.querySelector('#df-1f631a06-bdd9-4ae4-b0d1-fbbf163259d8 button.colab-df-convert');\n",
              "        buttonEl.style.display =\n",
              "          google.colab.kernel.accessAllowed ? 'block' : 'none';\n",
              "\n",
              "        async function convertToInteractive(key) {\n",
              "          const element = document.querySelector('#df-1f631a06-bdd9-4ae4-b0d1-fbbf163259d8');\n",
              "          const dataTable =\n",
              "            await google.colab.kernel.invokeFunction('convertToInteractive',\n",
              "                                                     [key], {});\n",
              "          if (!dataTable) return;\n",
              "\n",
              "          const docLinkHtml = 'Like what you see? Visit the ' +\n",
              "            '<a target=\"_blank\" href=https://colab.research.google.com/notebooks/data_table.ipynb>data table notebook</a>'\n",
              "            + ' to learn more about interactive tables.';\n",
              "          element.innerHTML = '';\n",
              "          dataTable['output_type'] = 'display_data';\n",
              "          await google.colab.output.renderOutput(dataTable, element);\n",
              "          const docLink = document.createElement('div');\n",
              "          docLink.innerHTML = docLinkHtml;\n",
              "          element.appendChild(docLink);\n",
              "        }\n",
              "      </script>\n",
              "    </div>\n",
              "  </div>\n",
              "  "
            ]
          },
          "metadata": {},
          "execution_count": 9
        }
      ]
    },
    {
      "cell_type": "markdown",
      "source": [
        "Pada tahap ini, kita akan melihat hipothesis mana yang harus diproritaskan. Untuk melihat hal tersebut, kita akan menggunakan `framework` `ICE` dan `RICE`. Karena itu saya menambahkan kolom `ICE` dan `RICE`dalam `dataframe` `hypothesis`."
      ],
      "metadata": {
        "id": "2CRhtTwtYcmd"
      }
    },
    {
      "cell_type": "markdown",
      "source": [
        "### Analisa Berdasarkan Framework ICE"
      ],
      "metadata": {
        "id": "VxHywhJZURU1"
      }
    },
    {
      "cell_type": "code",
      "source": [
        "hypotheses.loc[:, ['Hypothesis', 'ICE']].sort_values(by='ICE', ascending=False).reset_index(drop=True)"
      ],
      "metadata": {
        "colab": {
          "base_uri": "https://localhost:8080/",
          "height": 331
        },
        "id": "6TE7zrqCXGy3",
        "outputId": "45ed535e-4062-4532-c9dd-a89ecbedcf0d"
      },
      "execution_count": null,
      "outputs": [
        {
          "output_type": "execute_result",
          "data": {
            "text/plain": [
              "                                          Hypothesis        ICE\n",
              "0  Launch a promotion that gives users discounts ...  16.200000\n",
              "1  Add two new channels for attracting traffic. T...  13.333333\n",
              "2  Add a subscription form to all the main pages....  11.200000\n",
              "3  Show banners with current offers and sales on ...   8.000000\n",
              "4  Add product recommendation blocks to the store...   7.000000\n",
              "5  Launch your own delivery service. This will sh...   2.000000\n",
              "6  Add a customer review page. This will increase...   1.333333\n",
              "7  Change the category structure. This will incre...   1.125000\n",
              "8  Change the background color on the main page. ...   1.000000"
            ],
            "text/html": [
              "\n",
              "  <div id=\"df-97bc8d72-52f1-4792-9339-7cf7081afb83\">\n",
              "    <div class=\"colab-df-container\">\n",
              "      <div>\n",
              "<style scoped>\n",
              "    .dataframe tbody tr th:only-of-type {\n",
              "        vertical-align: middle;\n",
              "    }\n",
              "\n",
              "    .dataframe tbody tr th {\n",
              "        vertical-align: top;\n",
              "    }\n",
              "\n",
              "    .dataframe thead th {\n",
              "        text-align: right;\n",
              "    }\n",
              "</style>\n",
              "<table border=\"1\" class=\"dataframe\">\n",
              "  <thead>\n",
              "    <tr style=\"text-align: right;\">\n",
              "      <th></th>\n",
              "      <th>Hypothesis</th>\n",
              "      <th>ICE</th>\n",
              "    </tr>\n",
              "  </thead>\n",
              "  <tbody>\n",
              "    <tr>\n",
              "      <th>0</th>\n",
              "      <td>Launch a promotion that gives users discounts ...</td>\n",
              "      <td>16.200000</td>\n",
              "    </tr>\n",
              "    <tr>\n",
              "      <th>1</th>\n",
              "      <td>Add two new channels for attracting traffic. T...</td>\n",
              "      <td>13.333333</td>\n",
              "    </tr>\n",
              "    <tr>\n",
              "      <th>2</th>\n",
              "      <td>Add a subscription form to all the main pages....</td>\n",
              "      <td>11.200000</td>\n",
              "    </tr>\n",
              "    <tr>\n",
              "      <th>3</th>\n",
              "      <td>Show banners with current offers and sales on ...</td>\n",
              "      <td>8.000000</td>\n",
              "    </tr>\n",
              "    <tr>\n",
              "      <th>4</th>\n",
              "      <td>Add product recommendation blocks to the store...</td>\n",
              "      <td>7.000000</td>\n",
              "    </tr>\n",
              "    <tr>\n",
              "      <th>5</th>\n",
              "      <td>Launch your own delivery service. This will sh...</td>\n",
              "      <td>2.000000</td>\n",
              "    </tr>\n",
              "    <tr>\n",
              "      <th>6</th>\n",
              "      <td>Add a customer review page. This will increase...</td>\n",
              "      <td>1.333333</td>\n",
              "    </tr>\n",
              "    <tr>\n",
              "      <th>7</th>\n",
              "      <td>Change the category structure. This will incre...</td>\n",
              "      <td>1.125000</td>\n",
              "    </tr>\n",
              "    <tr>\n",
              "      <th>8</th>\n",
              "      <td>Change the background color on the main page. ...</td>\n",
              "      <td>1.000000</td>\n",
              "    </tr>\n",
              "  </tbody>\n",
              "</table>\n",
              "</div>\n",
              "      <button class=\"colab-df-convert\" onclick=\"convertToInteractive('df-97bc8d72-52f1-4792-9339-7cf7081afb83')\"\n",
              "              title=\"Convert this dataframe to an interactive table.\"\n",
              "              style=\"display:none;\">\n",
              "        \n",
              "  <svg xmlns=\"http://www.w3.org/2000/svg\" height=\"24px\"viewBox=\"0 0 24 24\"\n",
              "       width=\"24px\">\n",
              "    <path d=\"M0 0h24v24H0V0z\" fill=\"none\"/>\n",
              "    <path d=\"M18.56 5.44l.94 2.06.94-2.06 2.06-.94-2.06-.94-.94-2.06-.94 2.06-2.06.94zm-11 1L8.5 8.5l.94-2.06 2.06-.94-2.06-.94L8.5 2.5l-.94 2.06-2.06.94zm10 10l.94 2.06.94-2.06 2.06-.94-2.06-.94-.94-2.06-.94 2.06-2.06.94z\"/><path d=\"M17.41 7.96l-1.37-1.37c-.4-.4-.92-.59-1.43-.59-.52 0-1.04.2-1.43.59L10.3 9.45l-7.72 7.72c-.78.78-.78 2.05 0 2.83L4 21.41c.39.39.9.59 1.41.59.51 0 1.02-.2 1.41-.59l7.78-7.78 2.81-2.81c.8-.78.8-2.07 0-2.86zM5.41 20L4 18.59l7.72-7.72 1.47 1.35L5.41 20z\"/>\n",
              "  </svg>\n",
              "      </button>\n",
              "      \n",
              "  <style>\n",
              "    .colab-df-container {\n",
              "      display:flex;\n",
              "      flex-wrap:wrap;\n",
              "      gap: 12px;\n",
              "    }\n",
              "\n",
              "    .colab-df-convert {\n",
              "      background-color: #E8F0FE;\n",
              "      border: none;\n",
              "      border-radius: 50%;\n",
              "      cursor: pointer;\n",
              "      display: none;\n",
              "      fill: #1967D2;\n",
              "      height: 32px;\n",
              "      padding: 0 0 0 0;\n",
              "      width: 32px;\n",
              "    }\n",
              "\n",
              "    .colab-df-convert:hover {\n",
              "      background-color: #E2EBFA;\n",
              "      box-shadow: 0px 1px 2px rgba(60, 64, 67, 0.3), 0px 1px 3px 1px rgba(60, 64, 67, 0.15);\n",
              "      fill: #174EA6;\n",
              "    }\n",
              "\n",
              "    [theme=dark] .colab-df-convert {\n",
              "      background-color: #3B4455;\n",
              "      fill: #D2E3FC;\n",
              "    }\n",
              "\n",
              "    [theme=dark] .colab-df-convert:hover {\n",
              "      background-color: #434B5C;\n",
              "      box-shadow: 0px 1px 3px 1px rgba(0, 0, 0, 0.15);\n",
              "      filter: drop-shadow(0px 1px 2px rgba(0, 0, 0, 0.3));\n",
              "      fill: #FFFFFF;\n",
              "    }\n",
              "  </style>\n",
              "\n",
              "      <script>\n",
              "        const buttonEl =\n",
              "          document.querySelector('#df-97bc8d72-52f1-4792-9339-7cf7081afb83 button.colab-df-convert');\n",
              "        buttonEl.style.display =\n",
              "          google.colab.kernel.accessAllowed ? 'block' : 'none';\n",
              "\n",
              "        async function convertToInteractive(key) {\n",
              "          const element = document.querySelector('#df-97bc8d72-52f1-4792-9339-7cf7081afb83');\n",
              "          const dataTable =\n",
              "            await google.colab.kernel.invokeFunction('convertToInteractive',\n",
              "                                                     [key], {});\n",
              "          if (!dataTable) return;\n",
              "\n",
              "          const docLinkHtml = 'Like what you see? Visit the ' +\n",
              "            '<a target=\"_blank\" href=https://colab.research.google.com/notebooks/data_table.ipynb>data table notebook</a>'\n",
              "            + ' to learn more about interactive tables.';\n",
              "          element.innerHTML = '';\n",
              "          dataTable['output_type'] = 'display_data';\n",
              "          await google.colab.output.renderOutput(dataTable, element);\n",
              "          const docLink = document.createElement('div');\n",
              "          docLink.innerHTML = docLinkHtml;\n",
              "          element.appendChild(docLink);\n",
              "        }\n",
              "      </script>\n",
              "    </div>\n",
              "  </div>\n",
              "  "
            ]
          },
          "metadata": {},
          "execution_count": 10
        }
      ]
    },
    {
      "cell_type": "markdown",
      "source": [
        "Berdasarkan `framework` `ICE`, `hipotesis` yang mendapatkan skor tertinggi diurutan pertama adalah memberikan promosi diskon berdasarkan ulang tahun `customer`. Hipotesis kedua adalah menambahkan dua `channel` penjualan baru akan meningkatkan 30% `traffic`. Dan hipotesis urutan ketiga adalah menambahkan form berlangganan pada seluruh halaman utama, yang bertujuan mengumpulkan daftar email. "
      ],
      "metadata": {
        "id": "W7RXmAM-ecbd"
      }
    },
    {
      "cell_type": "markdown",
      "source": [
        "### Analisa Berdasarkan Framework RICE"
      ],
      "metadata": {
        "id": "iuBNFIcSU2k5"
      }
    },
    {
      "cell_type": "code",
      "source": [
        "hypotheses.loc[:, ['Hypothesis', 'RICE']].sort_values(by='RICE', ascending=False).reset_index(drop=True)"
      ],
      "metadata": {
        "id": "6CFb9_pxUqrN",
        "colab": {
          "base_uri": "https://localhost:8080/",
          "height": 331
        },
        "outputId": "dc45ef26-6f90-472d-c911-b67a002cf6e6"
      },
      "execution_count": null,
      "outputs": [
        {
          "output_type": "execute_result",
          "data": {
            "text/plain": [
              "                                          Hypothesis   RICE\n",
              "0  Add a subscription form to all the main pages....  112.0\n",
              "1  Add product recommendation blocks to the store...   56.0\n",
              "2  Add two new channels for attracting traffic. T...   40.0\n",
              "3  Show banners with current offers and sales on ...   40.0\n",
              "4  Launch a promotion that gives users discounts ...   16.2\n",
              "5  Change the category structure. This will incre...    9.0\n",
              "6  Launch your own delivery service. This will sh...    4.0\n",
              "7  Add a customer review page. This will increase...    4.0\n",
              "8  Change the background color on the main page. ...    3.0"
            ],
            "text/html": [
              "\n",
              "  <div id=\"df-1361882f-c55c-4e81-84b0-35d49d142831\">\n",
              "    <div class=\"colab-df-container\">\n",
              "      <div>\n",
              "<style scoped>\n",
              "    .dataframe tbody tr th:only-of-type {\n",
              "        vertical-align: middle;\n",
              "    }\n",
              "\n",
              "    .dataframe tbody tr th {\n",
              "        vertical-align: top;\n",
              "    }\n",
              "\n",
              "    .dataframe thead th {\n",
              "        text-align: right;\n",
              "    }\n",
              "</style>\n",
              "<table border=\"1\" class=\"dataframe\">\n",
              "  <thead>\n",
              "    <tr style=\"text-align: right;\">\n",
              "      <th></th>\n",
              "      <th>Hypothesis</th>\n",
              "      <th>RICE</th>\n",
              "    </tr>\n",
              "  </thead>\n",
              "  <tbody>\n",
              "    <tr>\n",
              "      <th>0</th>\n",
              "      <td>Add a subscription form to all the main pages....</td>\n",
              "      <td>112.0</td>\n",
              "    </tr>\n",
              "    <tr>\n",
              "      <th>1</th>\n",
              "      <td>Add product recommendation blocks to the store...</td>\n",
              "      <td>56.0</td>\n",
              "    </tr>\n",
              "    <tr>\n",
              "      <th>2</th>\n",
              "      <td>Add two new channels for attracting traffic. T...</td>\n",
              "      <td>40.0</td>\n",
              "    </tr>\n",
              "    <tr>\n",
              "      <th>3</th>\n",
              "      <td>Show banners with current offers and sales on ...</td>\n",
              "      <td>40.0</td>\n",
              "    </tr>\n",
              "    <tr>\n",
              "      <th>4</th>\n",
              "      <td>Launch a promotion that gives users discounts ...</td>\n",
              "      <td>16.2</td>\n",
              "    </tr>\n",
              "    <tr>\n",
              "      <th>5</th>\n",
              "      <td>Change the category structure. This will incre...</td>\n",
              "      <td>9.0</td>\n",
              "    </tr>\n",
              "    <tr>\n",
              "      <th>6</th>\n",
              "      <td>Launch your own delivery service. This will sh...</td>\n",
              "      <td>4.0</td>\n",
              "    </tr>\n",
              "    <tr>\n",
              "      <th>7</th>\n",
              "      <td>Add a customer review page. This will increase...</td>\n",
              "      <td>4.0</td>\n",
              "    </tr>\n",
              "    <tr>\n",
              "      <th>8</th>\n",
              "      <td>Change the background color on the main page. ...</td>\n",
              "      <td>3.0</td>\n",
              "    </tr>\n",
              "  </tbody>\n",
              "</table>\n",
              "</div>\n",
              "      <button class=\"colab-df-convert\" onclick=\"convertToInteractive('df-1361882f-c55c-4e81-84b0-35d49d142831')\"\n",
              "              title=\"Convert this dataframe to an interactive table.\"\n",
              "              style=\"display:none;\">\n",
              "        \n",
              "  <svg xmlns=\"http://www.w3.org/2000/svg\" height=\"24px\"viewBox=\"0 0 24 24\"\n",
              "       width=\"24px\">\n",
              "    <path d=\"M0 0h24v24H0V0z\" fill=\"none\"/>\n",
              "    <path d=\"M18.56 5.44l.94 2.06.94-2.06 2.06-.94-2.06-.94-.94-2.06-.94 2.06-2.06.94zm-11 1L8.5 8.5l.94-2.06 2.06-.94-2.06-.94L8.5 2.5l-.94 2.06-2.06.94zm10 10l.94 2.06.94-2.06 2.06-.94-2.06-.94-.94-2.06-.94 2.06-2.06.94z\"/><path d=\"M17.41 7.96l-1.37-1.37c-.4-.4-.92-.59-1.43-.59-.52 0-1.04.2-1.43.59L10.3 9.45l-7.72 7.72c-.78.78-.78 2.05 0 2.83L4 21.41c.39.39.9.59 1.41.59.51 0 1.02-.2 1.41-.59l7.78-7.78 2.81-2.81c.8-.78.8-2.07 0-2.86zM5.41 20L4 18.59l7.72-7.72 1.47 1.35L5.41 20z\"/>\n",
              "  </svg>\n",
              "      </button>\n",
              "      \n",
              "  <style>\n",
              "    .colab-df-container {\n",
              "      display:flex;\n",
              "      flex-wrap:wrap;\n",
              "      gap: 12px;\n",
              "    }\n",
              "\n",
              "    .colab-df-convert {\n",
              "      background-color: #E8F0FE;\n",
              "      border: none;\n",
              "      border-radius: 50%;\n",
              "      cursor: pointer;\n",
              "      display: none;\n",
              "      fill: #1967D2;\n",
              "      height: 32px;\n",
              "      padding: 0 0 0 0;\n",
              "      width: 32px;\n",
              "    }\n",
              "\n",
              "    .colab-df-convert:hover {\n",
              "      background-color: #E2EBFA;\n",
              "      box-shadow: 0px 1px 2px rgba(60, 64, 67, 0.3), 0px 1px 3px 1px rgba(60, 64, 67, 0.15);\n",
              "      fill: #174EA6;\n",
              "    }\n",
              "\n",
              "    [theme=dark] .colab-df-convert {\n",
              "      background-color: #3B4455;\n",
              "      fill: #D2E3FC;\n",
              "    }\n",
              "\n",
              "    [theme=dark] .colab-df-convert:hover {\n",
              "      background-color: #434B5C;\n",
              "      box-shadow: 0px 1px 3px 1px rgba(0, 0, 0, 0.15);\n",
              "      filter: drop-shadow(0px 1px 2px rgba(0, 0, 0, 0.3));\n",
              "      fill: #FFFFFF;\n",
              "    }\n",
              "  </style>\n",
              "\n",
              "      <script>\n",
              "        const buttonEl =\n",
              "          document.querySelector('#df-1361882f-c55c-4e81-84b0-35d49d142831 button.colab-df-convert');\n",
              "        buttonEl.style.display =\n",
              "          google.colab.kernel.accessAllowed ? 'block' : 'none';\n",
              "\n",
              "        async function convertToInteractive(key) {\n",
              "          const element = document.querySelector('#df-1361882f-c55c-4e81-84b0-35d49d142831');\n",
              "          const dataTable =\n",
              "            await google.colab.kernel.invokeFunction('convertToInteractive',\n",
              "                                                     [key], {});\n",
              "          if (!dataTable) return;\n",
              "\n",
              "          const docLinkHtml = 'Like what you see? Visit the ' +\n",
              "            '<a target=\"_blank\" href=https://colab.research.google.com/notebooks/data_table.ipynb>data table notebook</a>'\n",
              "            + ' to learn more about interactive tables.';\n",
              "          element.innerHTML = '';\n",
              "          dataTable['output_type'] = 'display_data';\n",
              "          await google.colab.output.renderOutput(dataTable, element);\n",
              "          const docLink = document.createElement('div');\n",
              "          docLink.innerHTML = docLinkHtml;\n",
              "          element.appendChild(docLink);\n",
              "        }\n",
              "      </script>\n",
              "    </div>\n",
              "  </div>\n",
              "  "
            ]
          },
          "metadata": {},
          "execution_count": 11
        }
      ]
    },
    {
      "cell_type": "markdown",
      "source": [
        "Ketika menggunakan `framework` `RICE` ada perubahan prioritas `hipotsesis`. \n",
        "\n",
        "Menambahkan form berlangganan pada seluruh halaman utama, yang bertujuan mengumpulkan daftar email naik menjadi urutan pertama dari yang sebelumnya ketiga. \n",
        "\n",
        "Pada urutan kedua, menambahkan blok produk rekomendasi pada situs daring. Dengan hal tersebut diyakini akan meningkatkan konversi dan dan rata-rata pembelian. \n",
        "\n",
        "Sedangkan urutan ketiga adalah menambahkan dua channel penjualan baru akan meningkatkan 30% `traffic`. Sebelumnya hipotesis tersebut dengan `framework` `ICE` berada di urutan kedua."
      ],
      "metadata": {
        "id": "nJ7cQxHngIbo"
      }
    },
    {
      "cell_type": "markdown",
      "source": [
        "### Kesimpulan Analisa Prioritas Hipotesis dengan Framework ICE dan RICE"
      ],
      "metadata": {
        "id": "VVNf1EYvoWjj"
      }
    },
    {
      "cell_type": "markdown",
      "source": [
        "Berdasarkan dari dua `framework` yang digunakan saat analisa prioritas `hipotesis`, ada perbedaan hasil yang didapatkan. Yang paling mencolok adalah pada hipotesis `Menambahkan form berlangganan pada seluruh halaman utama, yang bertujuan mengumpulkan daftar email`. \n",
        "\n",
        "Hipotesis tersebut sebelumnya berada pada urutan ketiga ketika dianalisa menggunakan `framework` `ICE`, sedangkan ketika menggunakan `RICE` naik menjadi urutan pertama. Hal tersebut dikarenakan `Reach` pada hipotesis tersebut sangatlah besar. Hipotesis tersebut memiliki nilai `Reach` yang paling besar dibandingkan hipotesis lainnya. Artinya, hipotesis tersebut merupakan hipotesis yang dapat mempengaruhi pengguna paling banyak."
      ],
      "metadata": {
        "id": "mKzG702Sol0_"
      }
    },
    {
      "cell_type": "markdown",
      "source": [
        "## Analisa A/B Testing"
      ],
      "metadata": {
        "id": "GXFQ6c94saE1"
      }
    },
    {
      "cell_type": "markdown",
      "source": [
        "### Perbedaan Pendapatan Kumulatif Berdasarkan Kelompok"
      ],
      "metadata": {
        "id": "DdoIqSb5oHdA"
      }
    },
    {
      "cell_type": "code",
      "source": [
        "datesGroups = orders.loc[:, ['date','group']].drop_duplicates()\n",
        "\n",
        "ordersAggregated = datesGroups.apply(\n",
        "    lambda x: orders.loc[np.logical_and(orders['date'] <= x['date'], orders['group'] == x['group'])]\n",
        "    .agg({'date' : 'max', 'group' : 'max', 'transactionId' : pd.Series.nunique, 'visitorId' : pd.Series.nunique, 'revenue' : 'sum'}), axis=1\n",
        ").sort_values(by=['date','group'])\n",
        "\n",
        "visitorsAggregated = datesGroups.apply(\n",
        "    lambda x: visitors.loc[np.logical_and(visitors['date'] <= x['date'], visitors['group'] == x['group'])]\n",
        "    .agg({'date' : 'max', 'group' : 'max', 'visits' : 'sum'}), axis=1\n",
        ").sort_values(by=['date','group'])\n",
        "\n",
        "cumulativeData = ordersAggregated.merge(visitorsAggregated, on=['date', 'group'])\n",
        "cumulativeData.columns = ['date', 'group', 'orders', 'buyers', 'revenue', 'visitors']\n",
        "cumulativeData.head()"
      ],
      "metadata": {
        "colab": {
          "base_uri": "https://localhost:8080/",
          "height": 206
        },
        "id": "xHjn6ICjsZza",
        "outputId": "9f4b52f1-2417-494f-d819-37d96e6f89b1"
      },
      "execution_count": null,
      "outputs": [
        {
          "output_type": "execute_result",
          "data": {
            "text/plain": [
              "        date group  orders  buyers  revenue  visitors\n",
              "0 2019-08-01     A      24      20   2356.8       719\n",
              "1 2019-08-01     B      21      20   1620.0       713\n",
              "2 2019-08-02     A      44      38   3860.3      1338\n",
              "3 2019-08-02     B      45      43   4243.8      1294\n",
              "4 2019-08-03     A      68      62   5675.5      1845"
            ],
            "text/html": [
              "\n",
              "  <div id=\"df-e3601c18-a94a-4202-97a0-a7d5eb126ba3\">\n",
              "    <div class=\"colab-df-container\">\n",
              "      <div>\n",
              "<style scoped>\n",
              "    .dataframe tbody tr th:only-of-type {\n",
              "        vertical-align: middle;\n",
              "    }\n",
              "\n",
              "    .dataframe tbody tr th {\n",
              "        vertical-align: top;\n",
              "    }\n",
              "\n",
              "    .dataframe thead th {\n",
              "        text-align: right;\n",
              "    }\n",
              "</style>\n",
              "<table border=\"1\" class=\"dataframe\">\n",
              "  <thead>\n",
              "    <tr style=\"text-align: right;\">\n",
              "      <th></th>\n",
              "      <th>date</th>\n",
              "      <th>group</th>\n",
              "      <th>orders</th>\n",
              "      <th>buyers</th>\n",
              "      <th>revenue</th>\n",
              "      <th>visitors</th>\n",
              "    </tr>\n",
              "  </thead>\n",
              "  <tbody>\n",
              "    <tr>\n",
              "      <th>0</th>\n",
              "      <td>2019-08-01</td>\n",
              "      <td>A</td>\n",
              "      <td>24</td>\n",
              "      <td>20</td>\n",
              "      <td>2356.8</td>\n",
              "      <td>719</td>\n",
              "    </tr>\n",
              "    <tr>\n",
              "      <th>1</th>\n",
              "      <td>2019-08-01</td>\n",
              "      <td>B</td>\n",
              "      <td>21</td>\n",
              "      <td>20</td>\n",
              "      <td>1620.0</td>\n",
              "      <td>713</td>\n",
              "    </tr>\n",
              "    <tr>\n",
              "      <th>2</th>\n",
              "      <td>2019-08-02</td>\n",
              "      <td>A</td>\n",
              "      <td>44</td>\n",
              "      <td>38</td>\n",
              "      <td>3860.3</td>\n",
              "      <td>1338</td>\n",
              "    </tr>\n",
              "    <tr>\n",
              "      <th>3</th>\n",
              "      <td>2019-08-02</td>\n",
              "      <td>B</td>\n",
              "      <td>45</td>\n",
              "      <td>43</td>\n",
              "      <td>4243.8</td>\n",
              "      <td>1294</td>\n",
              "    </tr>\n",
              "    <tr>\n",
              "      <th>4</th>\n",
              "      <td>2019-08-03</td>\n",
              "      <td>A</td>\n",
              "      <td>68</td>\n",
              "      <td>62</td>\n",
              "      <td>5675.5</td>\n",
              "      <td>1845</td>\n",
              "    </tr>\n",
              "  </tbody>\n",
              "</table>\n",
              "</div>\n",
              "      <button class=\"colab-df-convert\" onclick=\"convertToInteractive('df-e3601c18-a94a-4202-97a0-a7d5eb126ba3')\"\n",
              "              title=\"Convert this dataframe to an interactive table.\"\n",
              "              style=\"display:none;\">\n",
              "        \n",
              "  <svg xmlns=\"http://www.w3.org/2000/svg\" height=\"24px\"viewBox=\"0 0 24 24\"\n",
              "       width=\"24px\">\n",
              "    <path d=\"M0 0h24v24H0V0z\" fill=\"none\"/>\n",
              "    <path d=\"M18.56 5.44l.94 2.06.94-2.06 2.06-.94-2.06-.94-.94-2.06-.94 2.06-2.06.94zm-11 1L8.5 8.5l.94-2.06 2.06-.94-2.06-.94L8.5 2.5l-.94 2.06-2.06.94zm10 10l.94 2.06.94-2.06 2.06-.94-2.06-.94-.94-2.06-.94 2.06-2.06.94z\"/><path d=\"M17.41 7.96l-1.37-1.37c-.4-.4-.92-.59-1.43-.59-.52 0-1.04.2-1.43.59L10.3 9.45l-7.72 7.72c-.78.78-.78 2.05 0 2.83L4 21.41c.39.39.9.59 1.41.59.51 0 1.02-.2 1.41-.59l7.78-7.78 2.81-2.81c.8-.78.8-2.07 0-2.86zM5.41 20L4 18.59l7.72-7.72 1.47 1.35L5.41 20z\"/>\n",
              "  </svg>\n",
              "      </button>\n",
              "      \n",
              "  <style>\n",
              "    .colab-df-container {\n",
              "      display:flex;\n",
              "      flex-wrap:wrap;\n",
              "      gap: 12px;\n",
              "    }\n",
              "\n",
              "    .colab-df-convert {\n",
              "      background-color: #E8F0FE;\n",
              "      border: none;\n",
              "      border-radius: 50%;\n",
              "      cursor: pointer;\n",
              "      display: none;\n",
              "      fill: #1967D2;\n",
              "      height: 32px;\n",
              "      padding: 0 0 0 0;\n",
              "      width: 32px;\n",
              "    }\n",
              "\n",
              "    .colab-df-convert:hover {\n",
              "      background-color: #E2EBFA;\n",
              "      box-shadow: 0px 1px 2px rgba(60, 64, 67, 0.3), 0px 1px 3px 1px rgba(60, 64, 67, 0.15);\n",
              "      fill: #174EA6;\n",
              "    }\n",
              "\n",
              "    [theme=dark] .colab-df-convert {\n",
              "      background-color: #3B4455;\n",
              "      fill: #D2E3FC;\n",
              "    }\n",
              "\n",
              "    [theme=dark] .colab-df-convert:hover {\n",
              "      background-color: #434B5C;\n",
              "      box-shadow: 0px 1px 3px 1px rgba(0, 0, 0, 0.15);\n",
              "      filter: drop-shadow(0px 1px 2px rgba(0, 0, 0, 0.3));\n",
              "      fill: #FFFFFF;\n",
              "    }\n",
              "  </style>\n",
              "\n",
              "      <script>\n",
              "        const buttonEl =\n",
              "          document.querySelector('#df-e3601c18-a94a-4202-97a0-a7d5eb126ba3 button.colab-df-convert');\n",
              "        buttonEl.style.display =\n",
              "          google.colab.kernel.accessAllowed ? 'block' : 'none';\n",
              "\n",
              "        async function convertToInteractive(key) {\n",
              "          const element = document.querySelector('#df-e3601c18-a94a-4202-97a0-a7d5eb126ba3');\n",
              "          const dataTable =\n",
              "            await google.colab.kernel.invokeFunction('convertToInteractive',\n",
              "                                                     [key], {});\n",
              "          if (!dataTable) return;\n",
              "\n",
              "          const docLinkHtml = 'Like what you see? Visit the ' +\n",
              "            '<a target=\"_blank\" href=https://colab.research.google.com/notebooks/data_table.ipynb>data table notebook</a>'\n",
              "            + ' to learn more about interactive tables.';\n",
              "          element.innerHTML = '';\n",
              "          dataTable['output_type'] = 'display_data';\n",
              "          await google.colab.output.renderOutput(dataTable, element);\n",
              "          const docLink = document.createElement('div');\n",
              "          docLink.innerHTML = docLinkHtml;\n",
              "          element.appendChild(docLink);\n",
              "        }\n",
              "      </script>\n",
              "    </div>\n",
              "  </div>\n",
              "  "
            ]
          },
          "metadata": {},
          "execution_count": 12
        }
      ]
    },
    {
      "cell_type": "markdown",
      "source": [
        "Langkah pertama yang perlu saya lakukan adalam membuat data kumulatifnya seperti yang telah ditampilkan diatas. "
      ],
      "metadata": {
        "id": "unk7Gwbxss8l"
      }
    },
    {
      "cell_type": "code",
      "source": [
        "cumulativeRevenueA = cumulativeData[cumulativeData['group']=='A'][['date','revenue', 'orders']]\n",
        "cumulativeRevenueB = cumulativeData[cumulativeData['group']=='B'][['date','revenue', 'orders']]\n",
        "\n",
        "\n",
        "plt.plot(cumulativeRevenueA['date'], cumulativeRevenueA['revenue'], label='A')\n",
        "plt.plot(cumulativeRevenueB['date'], cumulativeRevenueB['revenue'], label='B')\n",
        "\n",
        "plt.xticks(rotation=45)\n",
        "plt.title('Cumulative Revenue', size=16)\n",
        "plt.xlabel('Date', size=14)\n",
        "plt.ylabel('Revenue', size=14)\n",
        "plt.legend()\n",
        "plt.show() "
      ],
      "metadata": {
        "colab": {
          "base_uri": "https://localhost:8080/",
          "height": 339
        },
        "id": "3kVBfo5cpsH6",
        "outputId": "d310cef6-305a-43e0-cab6-93a750138d11"
      },
      "execution_count": null,
      "outputs": [
        {
          "output_type": "display_data",
          "data": {
            "text/plain": [
              "<Figure size 432x288 with 1 Axes>"
            ],
            "image/png": "[encoded data removed]"
          },
          "metadata": {
            "needs_background": "light"
          }
        }
      ]
    },
    {
      "cell_type": "markdown",
      "source": [
        "Dari grafik diatas pendapatan grup B lebih tinggi. Salah satu penyebabnya adalah grup B mengalami lonjakan pendapatan disekitar tanggal 17 hingga 21 agustus 2019."
      ],
      "metadata": {
        "id": "icHV4UdWtnqM"
      }
    },
    {
      "cell_type": "markdown",
      "source": [
        "### Pesanan Rata-Rata Kumulatif Berdasarkan Kelompok "
      ],
      "metadata": {
        "id": "tJ8LeknyzeRr"
      }
    },
    {
      "cell_type": "code",
      "source": [
        "plt.plot(cumulativeRevenueA['date'], cumulativeRevenueA['revenue']/cumulativeRevenueA['orders'], label='A')\n",
        "plt.plot(cumulativeRevenueB['date'], cumulativeRevenueB['revenue']/cumulativeRevenueB['orders'], label='B')\n",
        "\n",
        "plt.xticks(rotation=45)\n",
        "plt.title('Cumulative Average Revenue', size=16)\n",
        "plt.xlabel('Date', size=14)\n",
        "plt.ylabel('Average Revenue per Order', size=14)\n",
        "plt.legend()\n",
        "plt.show() "
      ],
      "metadata": {
        "colab": {
          "base_uri": "https://localhost:8080/",
          "height": 339
        },
        "id": "32wBa8hPtFMq",
        "outputId": "f63ca612-a7f5-4f47-fec7-8ca5a637b9e9"
      },
      "execution_count": null,
      "outputs": [
        {
          "output_type": "display_data",
          "data": {
            "text/plain": [
              "<Figure size 432x288 with 1 Axes>"
            ],
            "image/png": "[encoded data removed]"
          },
          "metadata": {
            "needs_background": "light"
          }
        }
      ]
    },
    {
      "cell_type": "markdown",
      "source": [
        "Dari grafik diatas pendapatan grup B lebih tinggi. Pada grafik diatas juga kembali terlihat peningkatan rata-rata pendapatan per pesanan terjadi pada periode sekitar tanggal 17 hingga 21 Agustus 2019. "
      ],
      "metadata": {
        "id": "P1Ld0-Wjtmrs"
      }
    },
    {
      "cell_type": "markdown",
      "source": [
        "### Perbedaan Relatif Pesanan Rata-Rata kumulatif Kelompok B Dibandingkan Dengan Kelompok A"
      ],
      "metadata": {
        "id": "hd9VZ5toz6K5"
      }
    },
    {
      "cell_type": "code",
      "source": [
        "mergedCumulativeRevenue = cumulativeRevenueA.merge(cumulativeRevenueB, on='date', how='left', suffixes=['A', 'B'])\n",
        "plt.plot(\n",
        "    mergedCumulativeRevenue['date'], \n",
        "    (mergedCumulativeRevenue['revenueB']/mergedCumulativeRevenue['ordersB'])/(mergedCumulativeRevenue['revenueA']/mergedCumulativeRevenue['ordersA'])-1\n",
        ")\n",
        "\n",
        "plt.axhline(y=0, color='black', linestyle='--')\n",
        "plt.axhline(y=0.25, color='blue', linestyle='--')  \n",
        "\n",
        "plt.xticks(rotation=45)\n",
        "plt.title('Relative Difference of Cumulative Average Revenue of Group B Compared to A', size=14)\n",
        "plt.xlabel('Date', size=14)\n",
        "plt.ylabel('Relative Difference', size=14)\n",
        "plt.show() "
      ],
      "metadata": {
        "colab": {
          "base_uri": "https://localhost:8080/",
          "height": 338
        },
        "id": "t7HdmoUq0eBp",
        "outputId": "e708a162-d86d-410f-a2ac-ebaa3d81e491"
      },
      "execution_count": null,
      "outputs": [
        {
          "output_type": "display_data",
          "data": {
            "text/plain": [
              "<Figure size 432x288 with 1 Axes>"
            ],
            "image/png": "[encoded data removed]"
          },
          "metadata": {
            "needs_background": "light"
          }
        }
      ]
    },
    {
      "cell_type": "markdown",
      "source": [
        "Dari analisa diatas memperlihatkan bahwa rata-rata pendapatan per pesanan kelompok B lebih tinggi `25%` dibandingkan dengan grup `A`. Hal ini karena peningkatan pesanan dan pendaptan pada grup B  yang terjadi sekitar tanggal 17 hingga 21 Agustus 2019.  "
      ],
      "metadata": {
        "id": "hhwZCWoev32X"
      }
    },
    {
      "cell_type": "markdown",
      "source": [
        "### Tingkat Konversi Setiap Kelompok "
      ],
      "metadata": {
        "id": "-SHVvyZE7IoR"
      }
    },
    {
      "cell_type": "code",
      "source": [
        "\n",
        "cumulativeData['conversion'] = cumulativeData['orders']/cumulativeData['visitors']\n",
        "\n",
        "cumulativeDataA = cumulativeData.loc[cumulativeData['group']=='A']\n",
        "cumulativeDataB = cumulativeData.loc[cumulativeData['group']=='B']\n",
        "\n",
        "plt.plot(cumulativeDataA['date'], cumulativeDataA['conversion'], label='A')\n",
        "plt.plot(cumulativeDataB['date'], cumulativeDataB['conversion'], label='B')\n",
        "\n",
        "plt.xticks(rotation=45)\n",
        "plt.title('Cumulative Conversion Ratio', size=14)\n",
        "plt.xlabel('Date', size=14)\n",
        "plt.ylabel('Conversion Ratio', size=14)\n",
        "plt.legend()\n",
        "plt.show()"
      ],
      "metadata": {
        "colab": {
          "base_uri": "https://localhost:8080/",
          "height": 338
        },
        "id": "fi_j5MzT6R5U",
        "outputId": "04c849fe-0d51-453d-fc92-dc46881d578b"
      },
      "execution_count": null,
      "outputs": [
        {
          "output_type": "display_data",
          "data": {
            "text/plain": [
              "<Figure size 432x288 with 1 Axes>"
            ],
            "image/png": "[encoded data removed]"
          },
          "metadata": {
            "needs_background": "light"
          }
        }
      ]
    },
    {
      "cell_type": "markdown",
      "source": [
        "Seperti analisa sebelumnya, pada niai rasio konversi grup A juga memiliki nilai lebih tinggi dibandingkan grup B. Namun yang menarik hal tersebut tidak langsung terjadi. Bahkan grup A sempat memimpin dengan nilai rasio konversi tertinggi sebesar `3.7%`. Namun setelah tanggal 5, grup B mulai naik dan grup A sebaliknya. Sehingga kemudia grup B terus memimpin hingga akhir.   "
      ],
      "metadata": {
        "id": "f5lwytl_8kGu"
      }
    },
    {
      "cell_type": "markdown",
      "source": [
        "### Diagram Tebar Jumlah Pesanan Per Pengguna"
      ],
      "metadata": {
        "id": "LSGkQLH4Bvvl"
      }
    },
    {
      "cell_type": "code",
      "source": [
        "orders.head()\n",
        "orders_per_visitor = orders.groupby('visitorId').agg({'transactionId':'nunique'}).reset_index()\n",
        "orders_per_visitor.columns = ['visitorId', 'orders']\n",
        "\n",
        "x_values = pd.Series(range(0, len(orders_per_visitor['orders'])))\n",
        "plt.scatter(x_values, orders_per_visitor['orders'])\n",
        "\n",
        "\n",
        "plt.title('Orders per Visitor', size=14)\n",
        "plt.xlabel('Visitors', size=14)\n",
        "plt.ylabel('Orders', size=14)\n",
        "plt.show()"
      ],
      "metadata": {
        "colab": {
          "base_uri": "https://localhost:8080/",
          "height": 300
        },
        "id": "mSagdKeK8AFK",
        "outputId": "d0586f90-8ecd-45df-c4fe-6c428255f5f7"
      },
      "execution_count": null,
      "outputs": [
        {
          "output_type": "display_data",
          "data": {
            "text/plain": [
              "<Figure size 432x288 with 1 Axes>"
            ],
            "image/png": "[encoded data removed]"
          },
          "metadata": {
            "needs_background": "light"
          }
        }
      ]
    },
    {
      "cell_type": "markdown",
      "source": [
        "Ternyata umumnya pelanggan berbelanja satu hingga dua pesanan. Hanya ada beberapa pelanggan yang memiliki lebih dari 4 pesanan. Mungkin pelanggan-pelanggan tersebut tergabung kedalam grup B yang menyebabkan terjadinya lonjakan pesanan pada sekitar tanggal 17 hingga 21 agustus 2019."
      ],
      "metadata": {
        "id": "XNwLKV7RDd7p"
      }
    },
    {
      "cell_type": "markdown",
      "source": [
        "### Persentil 95 dan 99 dari Jumlah Pesanan per Pengguna"
      ],
      "metadata": {
        "id": "XFIoLTibE3BR"
      }
    },
    {
      "cell_type": "code",
      "source": [
        "np.percentile(orders_per_visitor['orders'], [95, 99])"
      ],
      "metadata": {
        "colab": {
          "base_uri": "https://localhost:8080/"
        },
        "id": "jiFW9YPhB4i6",
        "outputId": "8494954b-a0cf-4b25-f6d6-03edeee66d07"
      },
      "execution_count": null,
      "outputs": [
        {
          "output_type": "execute_result",
          "data": {
            "text/plain": [
              "array([2., 4.])"
            ]
          },
          "metadata": {},
          "execution_count": 18
        }
      ]
    },
    {
      "cell_type": "markdown",
      "source": [
        "Ternyata `95%` pelanggan membuat 2 pesanan. Dari hasil persentil tersebut saya artikan pelanggan yang memiliki pesanan lebih dari dua sebagai `anomali`."
      ],
      "metadata": {
        "id": "aa8Nf3CMHo-j"
      }
    },
    {
      "cell_type": "markdown",
      "source": [
        "### Diagram Tebar Harga Pesanan"
      ],
      "metadata": {
        "id": "jkihOwZJKnjA"
      }
    },
    {
      "cell_type": "code",
      "source": [
        "x_values = pd.Series(range(0, len(orders['revenue'])))\n",
        "plt.scatter(x_values, orders['revenue'])\n",
        "\n",
        "\n",
        "plt.title('Revenue', size=14)\n",
        "plt.xlabel('Visitors', size=14)\n",
        "plt.ylabel('Revenue per Visitor', size=14)\n",
        "plt.show()"
      ],
      "metadata": {
        "colab": {
          "base_uri": "https://localhost:8080/",
          "height": 300
        },
        "id": "_qxAvo_UFRTH",
        "outputId": "83ba4283-cb79-470b-aa24-0ca09ea60074"
      },
      "execution_count": null,
      "outputs": [
        {
          "output_type": "display_data",
          "data": {
            "text/plain": [
              "<Figure size 432x288 with 1 Axes>"
            ],
            "image/png": "[encoded data removed]"
          },
          "metadata": {
            "needs_background": "light"
          }
        }
      ]
    },
    {
      "cell_type": "markdown",
      "source": [
        "Dari data diatas sebagian sekilas terlihat umumnya nilai harga pesanan yang ditransaksikan pelanggan dibawah `$2,500`. Namun ada satu pelanggan memiliki pesanan sangat besar, yaitu `$20,000`. Nilai tersebut sangat jauh diatas nilai pesanan pelanggan pada umumnya."
      ],
      "metadata": {
        "id": "pKkIA0QaJgXe"
      }
    },
    {
      "cell_type": "markdown",
      "source": [
        "### Persentil 95 dan 99 Harga Pesanan"
      ],
      "metadata": {
        "id": "PO-4fjszK3RT"
      }
    },
    {
      "cell_type": "code",
      "source": [
        "np.percentile(orders['revenue'], [95, 99])"
      ],
      "metadata": {
        "colab": {
          "base_uri": "https://localhost:8080/"
        },
        "id": "GFUlQOfNJIfY",
        "outputId": "c7f4252b-a06a-4c0f-e197-509304691760"
      },
      "execution_count": null,
      "outputs": [
        {
          "output_type": "execute_result",
          "data": {
            "text/plain": [
              "array([435.54 , 900.904])"
            ]
          },
          "metadata": {},
          "execution_count": 20
        }
      ]
    },
    {
      "cell_type": "markdown",
      "source": [
        "Ternyata sebagian besar pelanggan nilai belanjanya per pesanan jauh dari `$2,500`. `95%` pelanggan berbelanja senilai `$435.54`. Dari data persentil tersebut maka pesanan yang nilainya diatas  `$435.54` dapat dianggap anomali."
      ],
      "metadata": {
        "id": "GDAA8riwLyne"
      }
    },
    {
      "cell_type": "markdown",
      "source": [
        "### Perbedaan Konversi Antar Kelompok "
      ],
      "metadata": {
        "id": "Eh7lNldnO5dA"
      }
    },
    {
      "cell_type": "code",
      "source": [
        "ordersByUsersA = orders.loc[orders['group']=='A'].groupby('visitorId', as_index=False).agg({'transactionId' : pd.Series.nunique})\n",
        "ordersByUsersA.columns = ['visitorId', 'orders']\n",
        "\n",
        "ordersByUsersB = orders.loc[orders['group']=='B'].groupby('visitorId', as_index=False).agg({'transactionId' : pd.Series.nunique})\n",
        "ordersByUsersB.columns = ['visitorId', 'orders']\n",
        "\n",
        "sampleA = pd.concat(\n",
        "    [ordersByUsersA['orders'],\n",
        "     pd.Series(0, index=np.arange(visitors.loc[visitors['group']=='A', 'visits'].sum() - len(ordersByUsersA['orders'])), name='orders')],\n",
        "axis=0)\n",
        "\n",
        "sampleB = pd.concat(\n",
        "    [ordersByUsersB['orders'],\n",
        "     pd.Series(0, index=np.arange(visitors.loc[visitors['group']=='B', 'visits'].sum() - len(ordersByUsersB['orders'])), name='orders')],\n",
        "axis=0)\n",
        "\n",
        "alpha = 0.05\n",
        "results = stats.mannwhitneyu(sampleA, sampleB)\n",
        "\n",
        "print('Pvaluenya adalah: '+'{0:.3f}'.format(results.pvalue))\n",
        "print('Perbedaan relatif nilai konversi antara Kelompok B dengan A adalah '+ '{0:.1f}'.format((sampleB.mean()/sampleA.mean()-1)*100)+'%') \n",
        "\n",
        "if (results.pvalue < alpha):\n",
        "  print('H0 ditolak: Ada Perbedaan Nilai Konversi yang Signifikan antara Kelompok A dengan B')\n",
        "else:\n",
        "  print('Gagal Menolak H0: Tidak Ada Perbedaan Nilai Konversi yang Signifikan antara Kelompok A dengan B')"
      ],
      "metadata": {
        "colab": {
          "base_uri": "https://localhost:8080/"
        },
        "id": "8_hZXJhYLpNt",
        "outputId": "3786714d-b813-4fe3-c641-7c6e6c4e40a2"
      },
      "execution_count": null,
      "outputs": [
        {
          "output_type": "stream",
          "name": "stdout",
          "text": [
            "Pvaluenya adalah: 0.017\n",
            "Perbedaan relatif antara Kelompok B dengan A adalah 13.8%\n",
            "H0 ditolak: Ada Perbedaan Nilai Konversi yang Signifikan antara Kelompok A dengan B\n"
          ]
        }
      ]
    },
    {
      "cell_type": "markdown",
      "source": [
        "Berdasarkan hasil uji statistiknya sebesar 0.017, nilainya lebih kecil dari nilai alpha `0.05`. Artinya menolak `H0` dan ada perbedaan yang signifikan secara statistik antara nilai konversi kelompok `A` dibandingkan kelompok `B`. Dan peningkatan nilai konversi kelompok `B` adalah `13.8%` dibandingkan kelompok `A`.\n",
        "\n",
        "Hasil ini menguatkan hasil analisa dan visualisasi yang telah dilakukan sebelumnya yang menunjukan konversi kumulatif kelompok `B` jauh diatas `A`."
      ],
      "metadata": {
        "id": "38cU5htMSXOU"
      }
    },
    {
      "cell_type": "markdown",
      "source": [
        "### Perbedaan Ukuran Pesanan Rata-Rata Antar Kelompok"
      ],
      "metadata": {
        "id": "M1rlYr8fVt5h"
      }
    },
    {
      "cell_type": "code",
      "source": [
        "revByUsersA = orders.loc[orders['group']=='A', ['visitorId', 'revenue']]\n",
        "revByUsersB = orders.loc[orders['group']=='B', ['visitorId', 'revenue']]\n",
        "\n",
        "sampleRevA = revByUsersA['revenue'].squeeze()\n",
        "sampleRevB = revByUsersB['revenue'].squeeze()\n",
        "\n",
        "results_rev = stats.mannwhitneyu(sampleRevA, sampleRevB)\n",
        "\n",
        "print('Pvaluenya adalah: '+'{0:.3f}'.format(results_rev.pvalue))\n",
        "print('Perbedaan relatif ukuran pesanan rata-rata antara Kelompok B dengan A adalah '+ '{0:.1f}'.format((sampleRevB.mean()/sampleRevA.mean()-1)*100)+'%') \n",
        "\n",
        "if (results.pvalue < alpha):\n",
        "  print('H0 ditolak: Ada Perbedaan Ukuran Pesanan Rata-Rata yang Signifikan antara Kelompok A dengan B')\n",
        "else:\n",
        "  print('Gagal Menolak H0: Tidak Ada Perbedaan Ukuran Pesanan Rata-Rata yang Signifikan antara Kelompok A dengan B')"
      ],
      "metadata": {
        "colab": {
          "base_uri": "https://localhost:8080/"
        },
        "id": "YP8ZxR5qPy5j",
        "outputId": "7c70d7e4-a7d0-416e-97bd-6056980c3ead"
      },
      "execution_count": null,
      "outputs": [
        {
          "output_type": "stream",
          "name": "stdout",
          "text": [
            "Pvaluenya adalah: 0.692\n",
            "Perbedaan relatif ukuran pesanan rata-rata antara Kelompok B dengan A adalah 25.2%\n",
            "Gagal Menolak H0: Tidak Ada Perbedaan Ukuran Pesanan Rata-Rata yang Signifikan antara Kelompok A dengan B\n"
          ]
        }
      ]
    },
    {
      "cell_type": "markdown",
      "source": [
        "Berdasarkan hasil uji statistiknya sebesar 0.692, nilainya lebih besar dari nilai alpha `0.05`. Artinya gagal menolak `H0` namun, tetap ada peningkatan nilai rata-rata ukuran pesanan kelompok `B` sebesar `25.2%` dibandingkan kelompok `A`.\n",
        "\n",
        "Hasil ini manjadi catatan, karena meskipun perbedaan nilai konversinya signifikan namun tidak dengan ukuran rata-rata pesanannya. Hal ini mungkin disebabkan karena masih adanya nilai anomali. Hal ini akan saya periksa pada tahap selanjutnya.  "
      ],
      "metadata": {
        "id": "4CwvBGMZcjL7"
      }
    },
    {
      "cell_type": "markdown",
      "source": [
        "### Perbedaan Konversi Antar Kelompok Tanpa Nilai Anomali"
      ],
      "metadata": {
        "id": "GLLMFRgt1mF6"
      }
    },
    {
      "cell_type": "markdown",
      "source": [
        "Dalam tahap ini, saya akan memfilter data dari pelanggan yang pesanannya diatas 4 dan nilai pesananya diatas `$435.54`. Karena itu sebelum memulai analisa, saya membutuhkan daftar pelanggan yang masuk kedalam kedua kriteria diatas. "
      ],
      "metadata": {
        "id": "75zuN8Le1_ea"
      }
    },
    {
      "cell_type": "code",
      "source": [
        "usersWithManyOrders = pd.concat(\n",
        "    [\n",
        "      ordersByUsersA.loc[ordersByUsersA['orders'] > 2, 'visitorId'], \n",
        "      ordersByUsersB.loc[ordersByUsersB['orders'] > 2, 'visitorId']\n",
        "    ], \n",
        "axis = 0)\n",
        "\n",
        "usersWithExpensiveOrders = orders.loc[orders['revenue'] > 435.54, 'visitorId']\n",
        "\n",
        "abnormalUsers = pd.concat(\n",
        "    [usersWithManyOrders, usersWithExpensiveOrders]\n",
        ").drop_duplicates().sort_values()\n",
        "\n",
        "abnormalUsers"
      ],
      "metadata": {
        "id": "ueoB2InYWaAD",
        "colab": {
          "base_uri": "https://localhost:8080/"
        },
        "outputId": "944a7e5c-2d9a-4eb6-c477-2b318fa367d3"
      },
      "execution_count": null,
      "outputs": [
        {
          "output_type": "execute_result",
          "data": {
            "text/plain": [
              "1099     148427295\n",
              "18       199603092\n",
              "928      204675465\n",
              "23       237748145\n",
              "37       249864742\n",
              "           ...    \n",
              "723     4009017467\n",
              "627     4120364173\n",
              "743     4133034833\n",
              "499     4256040402\n",
              "662     4266935830\n",
              "Name: visitorId, Length: 74, dtype: int64"
            ]
          },
          "metadata": {},
          "execution_count": 23
        }
      ]
    },
    {
      "cell_type": "markdown",
      "source": [
        "Datanya sudah terkumpul dan hasilnya ada 74 pelanggan yang memiliki order diatas 4 dan nilai pesanan diatas `$435.54`."
      ],
      "metadata": {
        "id": "jf3ruCxj5lda"
      }
    },
    {
      "cell_type": "code",
      "source": [
        "sampleAFiltered = pd.concat(\n",
        "    [\n",
        "      ordersByUsersA.loc[np.logical_not(ordersByUsersA['visitorId'].isin(abnormalUsers)), 'orders'],\n",
        "      pd.Series(0, index=np.arange(visitors.loc[visitors['group']=='A', 'visits'].sum() - len(ordersByUsersA['orders'])),name='orders')\n",
        "    ],\n",
        "axis=0)\n",
        "\n",
        "\n",
        "sampleBFiltered = pd.concat(\n",
        "    [\n",
        "      ordersByUsersB.loc[np.logical_not(ordersByUsersB['visitorId'].isin(abnormalUsers)), 'orders'],\n",
        "      pd.Series(0, index=np.arange(visitors.loc[visitors['group']=='B', 'visits'].sum() - len(ordersByUsersB['orders'])),name='orders')\n",
        "    ],\n",
        "axis=0)\n",
        "\n",
        "results_filtered = stats.mannwhitneyu(sampleAFiltered, sampleBFiltered)\n",
        "\n",
        "print('Pvaluenya adalah: '+'{0:.3f}'.format(results_filtered.pvalue))\n",
        "print('Perbedaan relatif nilai konversi antara Kelompok B dengan A adalah '+ '{0:.1f}'.format((sampleBFiltered.mean()/sampleAFiltered.mean()-1)*100)+'%') \n",
        "\n",
        "if (results.pvalue < alpha):\n",
        "  print('H0 ditolak: Ada Perbedaan Nilai Konversi yang Signifikan antara Kelompok A dengan B')\n",
        "else:\n",
        "  print('Gagal Menolak H0: Tidak Ada Perbedaan Nilai Konversi yang Signifikan antara Kelompok A dengan B')"
      ],
      "metadata": {
        "colab": {
          "base_uri": "https://localhost:8080/"
        },
        "id": "HoweJJWz4GKj",
        "outputId": "bfa6fa24-252d-49ac-d7c5-4758b731820d"
      },
      "execution_count": null,
      "outputs": [
        {
          "output_type": "stream",
          "name": "stdout",
          "text": [
            "Pvaluenya adalah: 0.013\n",
            "Perbedaan relatif nilai konversi antara Kelompok B dengan A adalah 17.3%\n",
            "Gagal Menolak H0: Tidak Ada Perbedaan Nilai Konversi yang Signifikan antara Kelompok A dengan B\n"
          ]
        }
      ]
    },
    {
      "cell_type": "markdown",
      "source": [
        "setelah dilakukan uji statistik, ternyata nilai signifikasinya `0.013` yang artinya menolak `H0` karena dibawah nilai alpha `0.05`. Nilai tersebut lebih kecil dibandingkan sebelum datanya difilter. \n",
        "\n",
        "Hal ini diikuti dengan meningkatnya nilai konversi relatif kelompok B dengan kelompok A, dari yang sebelum difilter `13.8%` jadi meningkat ke `17.3%`. Peningkatan terjadi diduga karena adanya pelanggan dari kelompok A yang memiliki jumlah pembelian yang anomali yang difilter."
      ],
      "metadata": {
        "id": "6tjSJhvt95ue"
      }
    },
    {
      "cell_type": "markdown",
      "source": [
        "### Perbedaan Ukuran Pesanan Rata-Rata Antar Kelompok Tanpa Nilai Anomali"
      ],
      "metadata": {
        "id": "YbmQ3FuLUpQj"
      }
    },
    {
      "cell_type": "code",
      "source": [
        "revAFiltered = revByUsersA.loc[\n",
        "    np.logical_not(revByUsersA['visitorId'].isin(abnormalUsers)),\n",
        "    'revenue'\n",
        "].squeeze()\n",
        "\n",
        "\n",
        "revBFiltered = revByUsersB.loc[\n",
        "    np.logical_not(revByUsersB['visitorId'].isin(abnormalUsers)),\n",
        "    'revenue'\n",
        "].squeeze()\n",
        "\n",
        "results_rev = stats.mannwhitneyu(revAFiltered, revBFiltered)\n",
        "\n",
        "print('Pvaluenya adalah: '+'{0:.3f}'.format(results_rev.pvalue))\n",
        "print('Perbedaan relatif ukuran pesanan rata-rata antara Kelompok B dengan A adalah '+ '{0:.1f}'.format((revBFiltered.mean()/revAFiltered.mean()-1)*100)+'%') \n",
        "\n",
        "if (results.pvalue < alpha):\n",
        "  print('H0 ditolak: Ada Perbedaan Ukuran Pesanan Rata-Rata yang Signifikan antara Kelompok A dengan B')\n",
        "else:\n",
        "  print('Gagal Menolak H0: Tidak Ada Perbedaan Ukuran Pesanan Rata-Rata yang Signifikan antara Kelompok A dengan B')"
      ],
      "metadata": {
        "colab": {
          "base_uri": "https://localhost:8080/"
        },
        "id": "Kv_oJnNE7o_L",
        "outputId": "fc0cf654-616e-4a14-9fbd-9c67028a925b"
      },
      "execution_count": null,
      "outputs": [
        {
          "output_type": "stream",
          "name": "stdout",
          "text": [
            "Pvaluenya adalah: 0.788\n",
            "Perbedaan relatif ukuran pesanan rata-rata antara Kelompok B dengan A adalah -1.9%\n",
            "Gagal Menolak H0: Tidak Ada Perbedaan Ukuran Pesanan Rata-Rata yang Signifikan antara Kelompok A dengan B\n"
          ]
        }
      ]
    },
    {
      "cell_type": "markdown",
      "source": [
        "Berdasarkan hasil uji statistiknya adalah sebesar 0.788, nilainya lebih besar dari nilai alpha `0.05`. Artinya gagal menolak `H0` dan ada sedikit penurunan nilai rata-rata ukuran pesanan kelompok `B` sebesar `-1.9%` dibandingkan kelompok `A`.\n",
        "\n",
        "Saya menduga ada beberapa pelanggan kelompok B yang memiliki nilai pembelian yang anomali. Sehingga setelah nilai anomalinya difilter, hasilnya adalah pebedaan relatifnya turun lebih dari `25%`. Pelanggan-pelanggan dengan ukuran pesanan yang `anomali` tersebut mungkin yang membuat lonjakan pendapatan kumulatif di sekitar tanggal 17 hingga 21 Agustus 2019. \n",
        "\n",
        "Namun hal tersebut tidak perlu dikhawatirkan secara berlebihan, kerena setelah diuji statistik perbedaanya tidak signifikan. "
      ],
      "metadata": {
        "id": "cYcvnXdXVYpv"
      }
    },
    {
      "cell_type": "markdown",
      "source": [
        "### Keputusan berdasarkan Hasil Pengujian"
      ],
      "metadata": {
        "id": "aPdGCMU4YA8W"
      }
    },
    {
      "cell_type": "code",
      "source": [
        "datesGroups = orders.loc[:, ['date','group']].drop_duplicates()\n",
        "\n",
        "orders_filtered = orders.loc[\n",
        "    np.logical_not(orders['visitorId'].isin(abnormalUsers))\n",
        "]\n",
        "\n",
        "ordersAggregated_fitered = datesGroups.apply(\n",
        "    lambda x: orders_filtered.loc[np.logical_and(orders_filtered['date'] <= x['date'], orders_filtered['group'] == x['group'])]\n",
        "    .agg({'date' : 'max', 'group' : 'max', 'transactionId' : pd.Series.nunique, 'visitorId' : pd.Series.nunique, 'revenue' : 'sum'}), axis=1\n",
        ").sort_values(by=['date','group'])\n",
        "\n",
        "cumulativeData_filtered = ordersAggregated_fitered.merge(visitorsAggregated, on=['date', 'group'])\n",
        "cumulativeData_filtered.columns = ['date', 'group', 'orders', 'buyers', 'revenue', 'visitors']\n",
        "cumulativeData_filtered['conversion'] = cumulativeData_filtered['orders']/cumulativeData_filtered['visitors']\n",
        "cumulativeData_filtered.head()\n",
        "\n",
        "cumulativeData_f_a = cumulativeData_filtered.loc[cumulativeData_filtered['group'] == 'A', ['date', 'revenue','orders', 'conversion']]\n",
        "cumulativeData_f_b = cumulativeData_filtered.loc[cumulativeData_filtered['group'] == 'B', ['date', 'revenue','orders', 'conversion']]\n",
        "\n",
        "mergedCumulative_f = cumulativeData_f_a.merge(cumulativeData_f_b, on='date', how='left', suffixes=['A', 'B'])\n",
        "\n",
        "f = plt.figure()\n",
        "f.set_figwidth(14)\n",
        "f.set_figheight(8)\n",
        "\n",
        "plt.plot(\n",
        "    mergedCumulative_f['date'], \n",
        "    (mergedCumulative_f['revenueB']/mergedCumulative_f['ordersB'])/(mergedCumulative_f['revenueA']/mergedCumulative_f['ordersA'])-1\n",
        ")\n",
        "\n",
        "plt.axhline(y=0, color='black', linestyle='--')\n",
        "plt.axhline(y=-0.02, color='red', linestyle='--')  \n",
        "\n",
        "plt.xticks(rotation=45)\n",
        "plt.title('Relative Difference of Filtered Cumulative Average Revenue of Group B Compared to A', size=14)\n",
        "plt.xlabel('Date', size=14)\n",
        "plt.ylabel('Relative Difference', size=14)\n",
        "plt.show() "
      ],
      "metadata": {
        "id": "CR8B_wQjVogI",
        "colab": {
          "base_uri": "https://localhost:8080/",
          "height": 556
        },
        "outputId": "3db0ebbe-57d9-4f14-8bae-8ba842bf61cd"
      },
      "execution_count": null,
      "outputs": [
        {
          "output_type": "display_data",
          "data": {
            "text/plain": [
              "<Figure size 1008x576 with 1 Axes>"
            ],
            "image/png": "[encoded data removed]"
          },
          "metadata": {
            "needs_background": "light"
          }
        }
      ]
    },
    {
      "cell_type": "markdown",
      "source": [
        "Berdasarkan dari grafik diatas, memperlihatkan bahwa pembelian kumulatif rata-rata grup B lebih rendah sekitar `2%` dibandingkan grup A. Hasilnya kurang lebih serupa dengan pengujian  sebelumnya. "
      ],
      "metadata": {
        "id": "j1DGVcM3kR4u"
      }
    },
    {
      "cell_type": "code",
      "source": [
        "f = plt.figure()\n",
        "f.set_figwidth(14)\n",
        "f.set_figheight(8)\n",
        "\n",
        "plt.plot(\n",
        "    mergedCumulative_f['date'], \n",
        "    (mergedCumulative_f['conversionB'])/(mergedCumulative_f['conversionA'])-1\n",
        ")\n",
        "\n",
        "plt.axhline(y=0, color='black', linestyle='--')\n",
        "plt.axhline(y=0.173, color='blue', linestyle='--')  \n",
        "\n",
        "plt.xticks(rotation=45)\n",
        "plt.title('Relative Difference of Filtered Conversion of Group B Compared to A', size=14)\n",
        "plt.xlabel('Date', size=14)\n",
        "plt.ylabel('Relative Difference', size=14)\n",
        "\n",
        "plt.show() "
      ],
      "metadata": {
        "colab": {
          "base_uri": "https://localhost:8080/",
          "height": 556
        },
        "id": "AMoWf_nCZOb1",
        "outputId": "5ecd157a-2903-461c-92a5-400a278561ce"
      },
      "execution_count": null,
      "outputs": [
        {
          "output_type": "display_data",
          "data": {
            "text/plain": [
              "<Figure size 1008x576 with 1 Axes>"
            ],
            "image/png": "[encoded data removed]"
          },
          "metadata": {
            "needs_background": "light"
          }
        }
      ]
    },
    {
      "cell_type": "markdown",
      "source": [
        "Berdasarkan dari grafik diatas, memperlihatkan bahwa pembelian nilai grup B lebih meningkat sekitar `17%` dibandingkan grup A. Hasilnya kurang lebih serupa dengan pengujian sebelumnya.  "
      ],
      "metadata": {
        "id": "X5ihbkrknlzY"
      }
    },
    {
      "cell_type": "markdown",
      "source": [
        "Setelah dilakukan beberapa pengujian ada beberapa poin yang didapatkan. Berikut poin-poin yang saya tangkap:\n",
        "- Sebagian besar pelanggan paling banyak membuat `2` pesanan, hanya sebagian kecil yang membuat pesanan diatas `2`.\n",
        "- Sebagian besar pelanggan memiliki ukuran pesanan paling besar `$435.54`, hanya sebagian kecil pelanggan yang memiliki ukuran pesanan diatas itu. \n",
        "- Pelanggan-pelanggan yang memiliki jumlah pesanan atau ukuran pesanan diatas nilai tersebut dianggap `outlier` atau `anomali`.\n",
        "- Pada kelompok A diduga lebih banyak pelanggan dengan jumlah pesanan yang `anomali` dan pada kelompok B diduga lebih banyak pelanggan dengan ukuran pesanan yang `anomali`. \n",
        "- Setelah dilakukan beberapa kali pengujian ternyata nilai-nilai `outlier` tersebut dapat membiaskan penilaian jika tidak difilter.\n",
        "\n",
        "Dan dari pengujian akhir setelah menyingkirkan data yang `anomali` menunjukan bahwa dari segi nilai `konversi`, kelompok B lebih tinggi dibandingkan A. \n",
        "\n",
        "Namun hal tersebut tidak diikuti dengan ukuran pesanannya. Ukuran pesanan kelompok B sedikit lebih rendah dibandingkan kelompok A, tetapi secara statistik tidak signifikan. \n",
        "\n",
        "Dilihat dari grafik perbedaan relatif nilai konversi dan ukuran pesanan terlihat fluktuasinya sudah mulai stabil dan jika dilanjutkan saya menduga hasilnya tidak berubah banyak. \n",
        "\n",
        "Berdasarkan dari pengujian dan pertimbangan diatas saya menyarankan untuk menghentikan pengujian dan memilih kelompok B sebagai pemimpin. Karena meskipun dari rata-rata ukuran pesanan tidak meningkat, namun nilai konversinya meningkat cukup tinggi dan dikuatkan juga dengan hasil statistik. Dengan kondisi tersebut maka saya meyakini peningkatan nilai konversi tersebut akan meningkatkan pendapatan perusahaan kedepannya."
      ],
      "metadata": {
        "id": "YMbDNX5wnpS1"
      }
    }
  ]
}